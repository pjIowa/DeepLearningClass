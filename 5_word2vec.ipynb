{
 "cells": [
  {
   "cell_type": "markdown",
   "metadata": {
    "colab_type": "text",
    "id": "D7tqLMoKF6uq"
   },
   "source": [
    "Deep Learning\n",
    "=============\n",
    "\n",
    "Assignment 5\n",
    "------------\n",
    "\n",
    "The goal of this assignment is to train a skip-gram model over [Text8](http://mattmahoney.net/dc/textdata) data."
   ]
  },
  {
   "cell_type": "code",
   "execution_count": 1,
   "metadata": {
    "cellView": "both",
    "colab": {
     "autoexec": {
      "startup": false,
      "wait_interval": 0
     }
    },
    "colab_type": "code",
    "collapsed": false,
    "id": "0K1ZyLn04QZf"
   },
   "outputs": [
    {
     "name": "stderr",
     "output_type": "stream",
     "text": [
      "/usr/local/lib/python2.7/site-packages/matplotlib/font_manager.py:273: UserWarning: Matplotlib is building the font cache using fc-list. This may take a moment.\n",
      "  warnings.warn('Matplotlib is building the font cache using fc-list. This may take a moment.')\n"
     ]
    }
   ],
   "source": [
    "# These are all the modules we'll be using later. Make sure you can import them\n",
    "# before proceeding further.\n",
    "from __future__ import print_function\n",
    "import collections\n",
    "import math\n",
    "import numpy as np\n",
    "import os\n",
    "import random\n",
    "import tensorflow as tf\n",
    "import zipfile\n",
    "from matplotlib import pylab\n",
    "from six.moves import range\n",
    "from six.moves.urllib.request import urlretrieve\n",
    "from sklearn.manifold import TSNE"
   ]
  },
  {
   "cell_type": "markdown",
   "metadata": {
    "colab_type": "text",
    "id": "aCjPJE944bkV"
   },
   "source": [
    "Download the data from the source website if necessary."
   ]
  },
  {
   "cell_type": "code",
   "execution_count": 2,
   "metadata": {
    "cellView": "both",
    "colab": {
     "autoexec": {
      "startup": false,
      "wait_interval": 0
     },
     "output_extras": [
      {
       "item_id": 1
      }
     ]
    },
    "colab_type": "code",
    "collapsed": false,
    "executionInfo": {
     "elapsed": 14640,
     "status": "ok",
     "timestamp": 1445964482948,
     "user": {
      "color": "#1FA15D",
      "displayName": "Vincent Vanhoucke",
      "isAnonymous": false,
      "isMe": true,
      "permissionId": "05076109866853157986",
      "photoUrl": "//lh6.googleusercontent.com/-cCJa7dTDcgQ/AAAAAAAAAAI/AAAAAAAACgw/r2EZ_8oYer4/s50-c-k-no/photo.jpg",
      "sessionId": "2f1ffade4c9f20de",
      "userId": "102167687554210253930"
     },
     "user_tz": 420
    },
    "id": "RJ-o3UBUFtCw",
    "outputId": "c4ec222c-80b5-4298-e635-93ca9f79c3b7"
   },
   "outputs": [
    {
     "name": "stdout",
     "output_type": "stream",
     "text": [
      "Found and verified text8.zip\n"
     ]
    }
   ],
   "source": [
    "url = 'http://mattmahoney.net/dc/'\n",
    "\n",
    "def maybe_download(filename, expected_bytes):\n",
    "  \"\"\"Download a file if not present, and make sure it's the right size.\"\"\"\n",
    "  if not os.path.exists(filename):\n",
    "    filename, _ = urlretrieve(url + filename, filename)\n",
    "  statinfo = os.stat(filename)\n",
    "  if statinfo.st_size == expected_bytes:\n",
    "    print('Found and verified %s' % filename)\n",
    "  else:\n",
    "    print(statinfo.st_size)\n",
    "    raise Exception(\n",
    "      'Failed to verify ' + filename + '. Can you get to it with a browser?')\n",
    "  return filename\n",
    "\n",
    "filename = maybe_download('text8.zip', 31344016)"
   ]
  },
  {
   "cell_type": "markdown",
   "metadata": {
    "colab_type": "text",
    "id": "Zqz3XiqI4mZT"
   },
   "source": [
    "Read the data into a string."
   ]
  },
  {
   "cell_type": "code",
   "execution_count": 3,
   "metadata": {
    "cellView": "both",
    "colab": {
     "autoexec": {
      "startup": false,
      "wait_interval": 0
     },
     "output_extras": [
      {
       "item_id": 1
      }
     ]
    },
    "colab_type": "code",
    "collapsed": false,
    "executionInfo": {
     "elapsed": 28844,
     "status": "ok",
     "timestamp": 1445964497165,
     "user": {
      "color": "#1FA15D",
      "displayName": "Vincent Vanhoucke",
      "isAnonymous": false,
      "isMe": true,
      "permissionId": "05076109866853157986",
      "photoUrl": "//lh6.googleusercontent.com/-cCJa7dTDcgQ/AAAAAAAAAAI/AAAAAAAACgw/r2EZ_8oYer4/s50-c-k-no/photo.jpg",
      "sessionId": "2f1ffade4c9f20de",
      "userId": "102167687554210253930"
     },
     "user_tz": 420
    },
    "id": "Mvf09fjugFU_",
    "outputId": "e3a928b4-1645-4fe8-be17-fcf47de5716d"
   },
   "outputs": [
    {
     "name": "stdout",
     "output_type": "stream",
     "text": [
      "Data size 17005207\n"
     ]
    }
   ],
   "source": [
    "def read_data(filename):\n",
    "  f = zipfile.ZipFile(filename)\n",
    "  for name in f.namelist():\n",
    "    return tf.compat.as_str(f.read(name)).split()\n",
    "  f.close()\n",
    "  \n",
    "words = read_data(filename)\n",
    "print('Data size %d' % len(words))"
   ]
  },
  {
   "cell_type": "markdown",
   "metadata": {
    "colab_type": "text",
    "id": "Zdw6i4F8glpp"
   },
   "source": [
    "Build the dictionary and replace rare words with UNK token."
   ]
  },
  {
   "cell_type": "code",
   "execution_count": 4,
   "metadata": {
    "cellView": "both",
    "colab": {
     "autoexec": {
      "startup": false,
      "wait_interval": 0
     },
     "output_extras": [
      {
       "item_id": 1
      }
     ]
    },
    "colab_type": "code",
    "collapsed": false,
    "executionInfo": {
     "elapsed": 28849,
     "status": "ok",
     "timestamp": 1445964497178,
     "user": {
      "color": "#1FA15D",
      "displayName": "Vincent Vanhoucke",
      "isAnonymous": false,
      "isMe": true,
      "permissionId": "05076109866853157986",
      "photoUrl": "//lh6.googleusercontent.com/-cCJa7dTDcgQ/AAAAAAAAAAI/AAAAAAAACgw/r2EZ_8oYer4/s50-c-k-no/photo.jpg",
      "sessionId": "2f1ffade4c9f20de",
      "userId": "102167687554210253930"
     },
     "user_tz": 420
    },
    "id": "gAL1EECXeZsD",
    "outputId": "3fb4ecd1-df67-44b6-a2dc-2291730970b2"
   },
   "outputs": [
    {
     "name": "stdout",
     "output_type": "stream",
     "text": [
      "Most common words (+UNK) [['UNK', 418391], ('the', 1061396), ('of', 593677), ('and', 416629), ('one', 411764)]\n",
      "Sample data [5239, 3084, 12, 6, 195, 2, 3137, 46, 59, 156]\n"
     ]
    }
   ],
   "source": [
    "vocabulary_size = 50000\n",
    "\n",
    "def build_dataset(words):\n",
    "  count = [['UNK', -1]]\n",
    "  count.extend(collections.Counter(words).most_common(vocabulary_size - 1))\n",
    "  dictionary = dict()\n",
    "  for word, _ in count:\n",
    "    dictionary[word] = len(dictionary)\n",
    "  data = list()\n",
    "  unk_count = 0\n",
    "  for word in words:\n",
    "    if word in dictionary:\n",
    "      index = dictionary[word]\n",
    "    else:\n",
    "      index = 0  # dictionary['UNK']\n",
    "      unk_count = unk_count + 1\n",
    "    data.append(index)\n",
    "  count[0][1] = unk_count\n",
    "  reverse_dictionary = dict(zip(dictionary.values(), dictionary.keys())) \n",
    "  return data, count, dictionary, reverse_dictionary\n",
    "\n",
    "data, count, dictionary, reverse_dictionary = build_dataset(words)\n",
    "print('Most common words (+UNK)', count[:5])\n",
    "print('Sample data', data[:10])\n",
    "del words  # Hint to reduce memory."
   ]
  },
  {
   "cell_type": "markdown",
   "metadata": {
    "colab_type": "text",
    "id": "lFwoyygOmWsL"
   },
   "source": [
    "Function to generate a training batch for the skip-gram model."
   ]
  },
  {
   "cell_type": "code",
   "execution_count": 5,
   "metadata": {
    "cellView": "both",
    "colab": {
     "autoexec": {
      "startup": false,
      "wait_interval": 0
     },
     "output_extras": [
      {
       "item_id": 1
      }
     ]
    },
    "colab_type": "code",
    "collapsed": false,
    "executionInfo": {
     "elapsed": 113,
     "status": "ok",
     "timestamp": 1445964901989,
     "user": {
      "color": "#1FA15D",
      "displayName": "Vincent Vanhoucke",
      "isAnonymous": false,
      "isMe": true,
      "permissionId": "05076109866853157986",
      "photoUrl": "//lh6.googleusercontent.com/-cCJa7dTDcgQ/AAAAAAAAAAI/AAAAAAAACgw/r2EZ_8oYer4/s50-c-k-no/photo.jpg",
      "sessionId": "2f1ffade4c9f20de",
      "userId": "102167687554210253930"
     },
     "user_tz": 420
    },
    "id": "w9APjA-zmfjV",
    "outputId": "67cccb02-cdaf-4e47-d489-43bcc8d57bb8"
   },
   "outputs": [
    {
     "name": "stdout",
     "output_type": "stream",
     "text": [
      "data: ['anarchism', 'originated', 'as', 'a', 'term', 'of', 'abuse', 'first']\n",
      "\n",
      "with num_skips = 2 and skip_window = 1:\n",
      "    batch: ['originated', 'originated', 'as', 'as', 'a', 'a', 'term', 'term']\n",
      "    labels: ['as', 'anarchism', 'originated', 'a', 'term', 'as', 'of', 'a']\n",
      "\n",
      "with num_skips = 4 and skip_window = 2:\n",
      "    batch: ['as', 'as', 'as', 'as', 'a', 'a', 'a', 'a']\n",
      "    labels: ['term', 'anarchism', 'a', 'originated', 'originated', 'of', 'term', 'as']\n"
     ]
    }
   ],
   "source": [
    "data_index = 0\n",
    "\n",
    "def generate_batch(batch_size, num_skips, skip_window):\n",
    "  global data_index\n",
    "  assert batch_size % num_skips == 0\n",
    "  assert num_skips <= 2 * skip_window\n",
    "  batch = np.ndarray(shape=(batch_size), dtype=np.int32)\n",
    "  labels = np.ndarray(shape=(batch_size, 1), dtype=np.int32)\n",
    "  span = 2 * skip_window + 1 # [ skip_window target skip_window ]\n",
    "  buffer = collections.deque(maxlen=span)\n",
    "  for _ in range(span):\n",
    "    buffer.append(data[data_index])\n",
    "    data_index = (data_index + 1) % len(data)\n",
    "  for i in range(batch_size // num_skips):\n",
    "    target = skip_window  # target label at the center of the buffer\n",
    "    targets_to_avoid = [ skip_window ]\n",
    "    for j in range(num_skips):\n",
    "      while target in targets_to_avoid:\n",
    "        target = random.randint(0, span - 1)\n",
    "      targets_to_avoid.append(target)\n",
    "      batch[i * num_skips + j] = buffer[skip_window]\n",
    "      labels[i * num_skips + j, 0] = buffer[target]\n",
    "    buffer.append(data[data_index])\n",
    "    data_index = (data_index + 1) % len(data)\n",
    "  return batch, labels\n",
    "\n",
    "print('data:', [reverse_dictionary[di] for di in data[:8]])\n",
    "\n",
    "for num_skips, skip_window in [(2, 1), (4, 2)]:\n",
    "    data_index = 0\n",
    "    batch, labels = generate_batch(batch_size=8, num_skips=num_skips, skip_window=skip_window)\n",
    "    print('\\nwith num_skips = %d and skip_window = %d:' % (num_skips, skip_window))\n",
    "    print('    batch:', [reverse_dictionary[bi] for bi in batch])\n",
    "    print('    labels:', [reverse_dictionary[li] for li in labels.reshape(8)])"
   ]
  },
  {
   "cell_type": "markdown",
   "metadata": {
    "colab_type": "text",
    "id": "Ofd1MbBuwiva"
   },
   "source": [
    "Train a skip-gram model."
   ]
  },
  {
   "cell_type": "code",
   "execution_count": 8,
   "metadata": {
    "cellView": "both",
    "colab": {
     "autoexec": {
      "startup": false,
      "wait_interval": 0
     }
    },
    "colab_type": "code",
    "collapsed": true,
    "id": "8pQKsV4Vwlzy"
   },
   "outputs": [],
   "source": [
    "batch_size = 128\n",
    "embedding_size = 128 # Dimension of the embedding vector.\n",
    "skip_window = 1 # How many words to consider left and right.\n",
    "num_skips = 2 # How many times to reuse an input to generate a label.\n",
    "# We pick a random validation set to sample nearest neighbors. here we limit the\n",
    "# validation samples to the words that have a low numeric ID, which by\n",
    "# construction are also the most frequent. \n",
    "valid_size = 16 # Random set of words to evaluate similarity on.\n",
    "valid_window = 100 # Only pick dev samples in the head of the distribution.\n",
    "valid_examples = np.array(random.sample(range(valid_window), valid_size))\n",
    "num_sampled = 64 # Number of negative examples to sample.\n",
    "\n",
    "graph = tf.Graph()\n",
    "\n",
    "with graph.as_default():\n",
    "\n",
    "  # Input data.\n",
    "  train_dataset = tf.placeholder(tf.int32, shape=[batch_size])\n",
    "  train_labels = tf.placeholder(tf.int32, shape=[batch_size, 1])\n",
    "  valid_dataset = tf.constant(valid_examples, dtype=tf.int32)\n",
    "  \n",
    "  # Variables.\n",
    "  embeddings = tf.Variable(\n",
    "    tf.random_uniform([vocabulary_size, embedding_size], -1.0, 1.0))\n",
    "  softmax_weights = tf.Variable(\n",
    "    tf.truncated_normal([vocabulary_size, embedding_size],\n",
    "                         stddev=1.0 / math.sqrt(embedding_size)))\n",
    "  softmax_biases = tf.Variable(tf.zeros([vocabulary_size]))\n",
    "  \n",
    "  # Model.\n",
    "  # Look up embeddings for inputs.\n",
    "  embed = tf.nn.embedding_lookup(embeddings, train_dataset)\n",
    "  # Compute the softmax loss, using a sample of the negative labels each time.\n",
    "  loss = tf.reduce_mean(\n",
    "    tf.nn.sampled_softmax_loss(softmax_weights, softmax_biases, embed,\n",
    "                               train_labels, num_sampled, vocabulary_size))\n",
    "\n",
    "  # Optimizer.\n",
    "  optimizer = tf.train.AdagradOptimizer(1.0).minimize(loss)\n",
    "  \n",
    "  # Compute the similarity between minibatch examples and all embeddings.\n",
    "  # We use the cosine distance:\n",
    "  norm = tf.sqrt(tf.reduce_sum(tf.square(embeddings), 1, keep_dims=True))\n",
    "  normalized_embeddings = embeddings / norm\n",
    "  valid_embeddings = tf.nn.embedding_lookup(\n",
    "    normalized_embeddings, valid_dataset)\n",
    "  similarity = tf.matmul(valid_embeddings, tf.transpose(normalized_embeddings))"
   ]
  },
  {
   "cell_type": "code",
   "execution_count": 7,
   "metadata": {
    "cellView": "both",
    "colab": {
     "autoexec": {
      "startup": false,
      "wait_interval": 0
     },
     "output_extras": [
      {
       "item_id": 23
      },
      {
       "item_id": 48
      },
      {
       "item_id": 61
      }
     ]
    },
    "colab_type": "code",
    "collapsed": false,
    "executionInfo": {
     "elapsed": 436189,
     "status": "ok",
     "timestamp": 1445965429787,
     "user": {
      "color": "#1FA15D",
      "displayName": "Vincent Vanhoucke",
      "isAnonymous": false,
      "isMe": true,
      "permissionId": "05076109866853157986",
      "photoUrl": "//lh6.googleusercontent.com/-cCJa7dTDcgQ/AAAAAAAAAAI/AAAAAAAACgw/r2EZ_8oYer4/s50-c-k-no/photo.jpg",
      "sessionId": "2f1ffade4c9f20de",
      "userId": "102167687554210253930"
     },
     "user_tz": 420
    },
    "id": "1bQFGceBxrWW",
    "outputId": "5ebd6d9a-33c6-4bcd-bf6d-252b0b6055e4",
    "scrolled": false
   },
   "outputs": [
    {
     "name": "stdout",
     "output_type": "stream",
     "text": [
      "Initialized\n",
      "Average loss at step 0: 7.887483\n",
      "Nearest to from: muse, reconciling, registry, biruni, monasticism, increase, gatt, hydrology,\n",
      "Nearest to UNK: omniglot, abandons, offenses, franken, dresden, morton, manaus, ullman,\n",
      "Nearest to by: enzymatic, requests, moorcock, drivetrain, lymphoid, emigration, tunable, fraktion,\n",
      "Nearest to as: inventive, renegade, sources, carbohydrate, wap, etext, dvo, intensely,\n",
      "Nearest to states: neurological, issued, depressant, nde, jun, contour, assess, hyksos,\n",
      "Nearest to into: commit, banishing, capped, bawerk, andalusia, alameda, lawyer, mung,\n",
      "Nearest to these: nave, dismissive, dominated, unalaska, thor, instantiation, obsoletes, rst,\n",
      "Nearest to for: trying, retriever, symbolize, factors, syndicalism, excited, undernet, aircraft,\n",
      "Nearest to all: abaci, cyclades, blot, tourists, attribute, susima, ecclesiastical, thinly,\n",
      "Nearest to over: quintus, marcelo, subsection, orbited, newfoundland, housework, superconductivity, receiver,\n",
      "Nearest to will: longsword, speculator, regiment, dining, sitar, cz, duopoly, schoolteacher,\n",
      "Nearest to seven: give, sheds, rupp, firenze, shoreline, dictionaries, baal, cockroaches,\n",
      "Nearest to to: lycopene, genie, traversed, gerson, vga, padua, kd, extends,\n",
      "Nearest to between: pons, bets, lyric, cdna, arching, supernaturalism, summarizing, populous,\n",
      "Nearest to who: filmed, gustaf, elsinore, abduction, pill, synoptic, gropius, secombe,\n",
      "Nearest to some: screenshot, disuse, soliloquy, qualitative, mathematically, broaden, fields, com,\n",
      "Average loss at step 2000: 4.366087\n",
      "Average loss at step 4000: 3.859499\n",
      "Average loss at step 6000: 3.786076\n",
      "Average loss at step 8000: 3.685720\n",
      "Average loss at step 10000: 3.619138\n",
      "Nearest to from: after, with, in, among, tutored, during, wanderings, by,\n",
      "Nearest to UNK: innumerable, kluwer, sheriff, ridge, jugnauth, unionism, presided, assured,\n",
      "Nearest to by: was, and, in, as, fuzzy, with, into, invitation,\n",
      "Nearest to as: by, pigmented, renegade, wap, inventive, stabbing, cataclysmic, sorrow,\n",
      "Nearest to states: issued, depressant, nde, neurological, japanese, radiating, areas, scenario,\n",
      "Nearest to into: in, commit, with, capped, by, bawerk, tranquility, forest,\n",
      "Nearest to these: many, such, musa, leary, walley, dominated, nave, globular,\n",
      "Nearest to for: with, of, initiator, grounding, aircraft, in, and, microprogram,\n",
      "Nearest to all: blot, attribute, jdk, entrepreneur, impede, wastewater, betraying, fv,\n",
      "Nearest to over: willed, astride, explaining, hatching, carnegie, join, oglethorpe, altos,\n",
      "Nearest to will: would, can, duopoly, hollerith, belgian, should, tanner, midfield,\n",
      "Nearest to seven: eight, six, nine, five, three, four, zero, two,\n",
      "Nearest to to: can, not, would, abdication, uua, tds, mudd, flamboyant,\n",
      "Nearest to between: slimmer, adin, with, diamonds, populous, summarizing, of, leaning,\n",
      "Nearest to who: he, often, they, foreshadow, which, masjid, and, airbase,\n",
      "Nearest to some: many, broaden, delson, miyamoto, disuse, flashes, bodkin, countess,\n",
      "Average loss at step 12000: 3.606289\n",
      "Average loss at step 14000: 3.573428\n",
      "Average loss at step 16000: 3.410620\n",
      "Average loss at step 18000: 3.457154\n",
      "Average loss at step 20000: 3.538646\n",
      "Nearest to from: at, during, after, in, tutored, through, among, with,\n",
      "Nearest to UNK: logan, secured, liqueurs, atlas, occam, ishaq, suprarenal, mixer,\n",
      "Nearest to by: be, with, invitation, via, into, was, desmond, elevations,\n",
      "Nearest to as: stalactites, wrangling, encodings, wap, for, ism, etext, danelaw,\n",
      "Nearest to states: neurological, radiating, areas, nde, depressant, scenario, transportation, issued,\n",
      "Nearest to into: treble, by, commit, capped, through, from, liebig, pnh,\n",
      "Nearest to these: many, such, walley, all, some, leary, other, which,\n",
      "Nearest to for: with, of, microprogram, instigator, axon, is, grounding, as,\n",
      "Nearest to all: many, these, those, fv, blot, parts, various, entrepreneur,\n",
      "Nearest to over: astride, analysed, oglethorpe, akrotiri, willed, irt, frequent, join,\n",
      "Nearest to will: would, can, may, should, could, must, hollerith, klein,\n",
      "Nearest to seven: eight, six, five, four, nine, three, two, zero,\n",
      "Nearest to to: would, may, attainable, not, will, might, could, tds,\n",
      "Nearest to between: with, from, slimmer, fanning, cii, adin, in, earp,\n",
      "Nearest to who: he, which, they, often, also, foreshadow, airbase, not,\n",
      "Nearest to some: many, broaden, their, bodkin, other, these, flashes, his,\n",
      "Average loss at step 22000: 3.496162\n",
      "Average loss at step 24000: 3.489823\n",
      "Average loss at step 26000: 3.482560\n",
      "Average loss at step 28000: 3.482522\n",
      "Average loss at step 30000: 3.505056\n",
      "Nearest to from: into, after, in, between, during, through, by, heuss,\n",
      "Nearest to UNK: astrolabe, rebounded, peter, alc, ambients, rajasthan, lookup, tasty,\n",
      "Nearest to by: with, was, supermarket, from, desmond, inspectors, in, menelik,\n",
      "Nearest to as: encodings, wrangling, dispersing, snows, ism, danelaw, predestined, by,\n",
      "Nearest to states: areas, kingdom, nde, buttstock, radiating, neurological, abundance, assess,\n",
      "Nearest to into: from, through, back, with, within, in, treble, commit,\n",
      "Nearest to these: many, some, they, such, all, walley, those, which,\n",
      "Nearest to for: initiator, after, past, when, against, psychiatric, while, in,\n",
      "Nearest to all: these, some, many, fv, various, those, any, subtlety,\n",
      "Nearest to over: explaining, overwhelmingly, about, analysed, housework, radiocommunication, astride, win,\n",
      "Nearest to will: would, can, may, could, should, must, to, undated,\n",
      "Nearest to seven: eight, six, nine, five, four, three, zero, two,\n",
      "Nearest to to: would, will, uua, broken, might, could, can, not,\n",
      "Nearest to between: with, from, fanning, in, enlargement, slimmer, cii, earners,\n",
      "Nearest to who: he, they, often, foreshadow, also, never, which, she,\n",
      "Nearest to some: many, these, several, any, other, all, the, their,\n",
      "Average loss at step 32000: 3.498964\n",
      "Average loss at step 34000: 3.493607\n",
      "Average loss at step 36000: 3.452016\n",
      "Average loss at step 38000: 3.300208\n",
      "Average loss at step 40000: 3.430532\n",
      "Nearest to from: in, through, into, during, after, wp, between, for,\n",
      "Nearest to UNK: h, paul, intermolecular, virility, b, tala, w, and,\n",
      "Nearest to by: with, was, desmond, fuzzy, maker, spurious, inoue, tunable,\n",
      "Nearest to as: ism, oldies, wap, sanitation, beeb, dispersing, sorrow, by,\n",
      "Nearest to states: areas, kingdom, countries, nde, radiating, innkeeper, teenage, nations,\n",
      "Nearest to into: through, from, pnh, capped, commit, back, bernese, between,\n",
      "Nearest to these: many, some, they, several, such, those, all, various,\n",
      "Nearest to for: in, axon, initiator, against, corned, from, and, instigator,\n",
      "Nearest to all: these, ericsson, several, fv, various, entrepreneur, parts, many,\n",
      "Nearest to over: analysed, overwhelmingly, discriminatory, housework, astride, akrotiri, comoros, normandie,\n",
      "Nearest to will: would, can, could, may, should, must, cannot, might,\n",
      "Nearest to seven: eight, six, five, nine, four, three, zero, two,\n",
      "Nearest to to: could, in, will, can, blockbusters, genie, might, and,\n",
      "Nearest to between: with, among, enlargement, earners, fanning, from, into, mapquest,\n",
      "Nearest to who: he, often, they, which, never, also, she, dsl,\n",
      "Nearest to some: many, these, any, several, the, their, bungalow, belarus,\n",
      "Average loss at step 42000: 3.432355\n",
      "Average loss at step 44000: 3.452171\n",
      "Average loss at step 46000: 3.447539\n",
      "Average loss at step 48000: 3.347729\n",
      "Average loss at step 50000: 3.383981\n",
      "Nearest to from: into, through, during, in, on, by, under, until,\n",
      "Nearest to UNK: alc, catalyse, veal, infinitesimal, dp, showa, fluid, mikhail,\n",
      "Nearest to by: was, under, supermarket, through, from, fuzzy, electrolytic, with,\n",
      "Nearest to as: sorrow, when, etext, encodings, oldies, wrangling, ganesh, prologue,\n",
      "Nearest to states: kingdom, areas, nde, innkeeper, countries, nations, buttstock, teenage,\n",
      "Nearest to into: through, from, within, back, around, pierced, pnh, between,\n",
      "Nearest to these: some, many, several, both, such, those, all, various,\n",
      "Nearest to for: against, while, initiator, commodities, following, yahoo, including, windowing,\n",
      "Nearest to all: these, both, every, many, each, any, those, attribute,\n",
      "Nearest to over: comoros, overwhelmingly, analysed, up, akrotiri, annex, radiocommunication, oratorio,\n",
      "Nearest to will: would, could, can, may, must, should, might, cannot,\n",
      "Nearest to seven: six, eight, nine, three, four, five, zero, one,\n",
      "Nearest to to: exponential, blockbusters, could, firm, might, should, stabilize, uua,\n",
      "Nearest to between: with, among, into, enlargement, in, earners, fanning, diamonds,\n",
      "Nearest to who: he, which, never, also, not, eventually, totleben, they,\n",
      "Nearest to some: many, these, several, both, various, the, belarus, other,\n",
      "Average loss at step 52000: 3.436535\n",
      "Average loss at step 54000: 3.426137\n",
      "Average loss at step 56000: 3.435252\n",
      "Average loss at step 58000: 3.398905\n",
      "Average loss at step 60000: 3.391962\n",
      "Nearest to from: through, into, wp, by, enthusiastically, kahanamoku, tutored, anni,\n",
      "Nearest to UNK: graceful, trench, e, unimaginable, expos, heaps, conte, moser,\n",
      "Nearest to by: under, through, fuzzy, from, was, with, be, kahanamoku,\n",
      "Nearest to as: punta, stalactites, encodings, when, ism, wrangling, preached, thyestes,\n",
      "Nearest to states: kingdom, areas, countries, nations, us, buttstock, astronautica, nde,\n",
      "Nearest to into: through, within, from, around, pnh, away, capped, back,\n",
      "Nearest to these: many, some, both, all, several, which, such, those,\n",
      "Nearest to for: of, without, after, and, by, while, against, initiator,\n",
      "Nearest to all: many, these, those, both, any, each, every, various,\n",
      "Nearest to over: comoros, off, oratorio, between, analysed, up, overwhelmingly, through,\n",
      "Nearest to will: would, could, may, can, must, should, might, cannot,\n",
      "Nearest to seven: eight, six, four, nine, five, three, zero, one,\n",
      "Nearest to to: would, might, not, stabilized, will, radiotherapy, could, only,\n",
      "Nearest to between: with, among, over, within, enlargement, earners, pius, in,\n",
      "Nearest to who: he, which, subsequently, never, she, eventually, they, not,\n",
      "Nearest to some: many, several, these, both, certain, any, this, various,\n",
      "Average loss at step 62000: 3.241351\n",
      "Average loss at step 64000: 3.251005\n",
      "Average loss at step 66000: 3.403058\n",
      "Average loss at step 68000: 3.396861\n",
      "Average loss at step 70000: 3.361073\n",
      "Nearest to from: through, into, in, muse, by, kahanamoku, excommunication, wp,\n",
      "Nearest to UNK: phosphate, freebase, relativism, mechanical, erhard, orbitals, antibiotic, monogatari,\n",
      "Nearest to by: be, electrolytic, spurious, from, through, inspectors, under, desmond,\n",
      "Nearest to as: like, encodings, danelaw, dispersing, marches, sanitation, etext, tze,\n",
      "Nearest to states: kingdom, nations, areas, countries, us, innkeeper, buttstock, nde,\n",
      "Nearest to into: through, from, within, pnh, capped, around, dmca, auden,\n",
      "Nearest to these: some, many, such, various, are, several, they, those,\n",
      "Nearest to for: in, while, including, psychiatric, to, initiator, cushion, of,\n",
      "Nearest to all: many, some, any, every, various, ericsson, attribute, both,\n",
      "Nearest to over: about, overwhelmingly, analysed, radiocommunication, off, oratorio, normandie, comoros,\n",
      "Nearest to will: would, may, can, could, must, should, might, cannot,\n",
      "Nearest to seven: six, eight, nine, four, three, five, zero, two,\n",
      "Nearest to to: will, would, can, must, shall, could, and, for,\n",
      "Nearest to between: with, among, within, enlargement, fanning, earners, chapterhouse, in,\n",
      "Nearest to who: he, never, which, she, subsequently, born, they, eventually,\n",
      "Nearest to some: many, several, these, various, both, all, any, certain,\n",
      "Average loss at step 72000: 3.373227\n",
      "Average loss at step 74000: 3.348510\n",
      "Average loss at step 76000: 3.317949\n",
      "Average loss at step 78000: 3.349607\n",
      "Average loss at step 80000: 3.380104\n",
      "Nearest to from: through, into, muse, tutored, in, by, during, before,\n",
      "Nearest to UNK: et, smith, prejudiced, johnson, creatively, rajasthan, wilhelm, physicist,\n",
      "Nearest to by: through, desmond, when, from, including, fuzzy, with, felons,\n",
      "Nearest to as: pigmented, stalactites, sanitation, headland, wrangling, dispersing, outsourcing, tze,\n",
      "Nearest to states: kingdom, us, nations, countries, buttstock, areas, astronautica, commander,\n",
      "Nearest to into: through, within, from, pnh, around, under, capped, dmca,\n",
      "Nearest to these: several, many, various, those, some, such, both, all,\n",
      "Nearest to for: including, against, caricatures, initiator, canaveral, deporting, imi, axon,\n",
      "Nearest to all: both, every, various, any, many, these, several, each,\n",
      "Nearest to over: about, radiocommunication, oratorio, proconsular, off, overwhelmingly, marginal, through,\n",
      "Nearest to will: would, could, can, may, must, should, might, cannot,\n",
      "Nearest to seven: five, six, eight, four, nine, three, zero, one,\n",
      "Nearest to to: will, vga, php, blockbusters, would, humus, should, can,\n",
      "Nearest to between: among, with, within, enlargement, fanning, earners, from, clinch,\n",
      "Nearest to who: he, never, they, she, often, born, actually, alienate,\n",
      "Nearest to some: many, several, various, these, certain, numerous, both, any,\n",
      "Average loss at step 82000: 3.406950\n",
      "Average loss at step 84000: 3.414828\n",
      "Average loss at step 86000: 3.385353\n",
      "Average loss at step 88000: 3.356482\n",
      "Average loss at step 90000: 3.363603\n",
      "Nearest to from: through, during, into, before, after, tutored, muse, without,\n",
      "Nearest to UNK: psychiatrists, kaliningrad, nikola, pianist, omnivorous, toland, vulpes, bentley,\n",
      "Nearest to by: through, under, fuzzy, while, desmond, from, elevations, and,\n",
      "Nearest to as: wrangling, tze, punta, oldies, like, precinct, marches, talons,\n",
      "Nearest to states: kingdom, us, nations, buttstock, countries, areas, astronautica, innkeeper,\n",
      "Nearest to into: through, from, within, around, pnh, sancta, gabon, under,\n",
      "Nearest to these: several, some, many, various, such, are, both, all,\n",
      "Nearest to for: including, while, of, against, after, by, during, bibliographies,\n",
      "Nearest to all: many, both, various, several, every, any, these, some,\n",
      "Nearest to over: off, overwhelmingly, radiocommunication, through, about, jaw, behaviors, marginal,\n",
      "Nearest to will: would, could, can, may, must, should, might, cannot,\n",
      "Nearest to seven: eight, six, five, nine, four, three, zero, one,\n",
      "Nearest to to: will, blockbusters, would, flourishes, humus, php, uua, should,\n",
      "Nearest to between: with, among, within, earners, from, through, enlargement, transfusion,\n",
      "Nearest to who: he, which, she, never, also, often, they, actually,\n",
      "Nearest to some: many, several, these, certain, this, any, both, various,\n",
      "Average loss at step 92000: 3.397314\n",
      "Average loss at step 94000: 3.255470\n",
      "Average loss at step 96000: 3.359244\n",
      "Average loss at step 98000: 3.243338\n",
      "Average loss at step 100000: 3.352750\n",
      "Nearest to from: through, in, into, during, muse, between, within, after,\n",
      "Nearest to UNK: crystallization, conch, bound, applicant, da, declassified, vulpes, diversification,\n",
      "Nearest to by: through, including, under, desmond, when, without, renegade, ficino,\n",
      "Nearest to as: sanitation, punta, tze, like, ism, stalactites, infertility, when,\n",
      "Nearest to states: kingdom, nations, us, countries, buttstock, astronautica, innkeeper, areas,\n",
      "Nearest to into: through, within, from, around, pnh, pcm, sancta, back,\n",
      "Nearest to these: some, several, many, various, all, those, instead, which,\n",
      "Nearest to for: including, after, without, when, against, while, before, at,\n",
      "Nearest to all: these, many, any, various, every, those, some, several,\n",
      "Nearest to over: off, marginal, through, socket, discriminatory, dummy, palaestina, overwhelmingly,\n",
      "Nearest to will: would, can, could, may, must, should, might, cannot,\n",
      "Nearest to seven: eight, six, five, four, nine, three, two, zero,\n",
      "Nearest to to: will, could, can, should, blockbusters, would, zariski, shall,\n",
      "Nearest to between: among, with, within, through, enlargement, from, earners, into,\n",
      "Nearest to who: he, never, actually, which, also, she, that, traditionally,\n",
      "Nearest to some: many, several, these, numerous, various, any, certain, all,\n"
     ]
    }
   ],
   "source": [
    "num_steps = 100001\n",
    "\n",
    "with tf.Session(graph=graph) as session:\n",
    "  tf.initialize_all_variables().run()\n",
    "  print('Initialized')\n",
    "  average_loss = 0\n",
    "  for step in range(num_steps):\n",
    "    batch_data, batch_labels = generate_batch(\n",
    "      batch_size, num_skips, skip_window)\n",
    "    feed_dict = {train_dataset : batch_data, train_labels : batch_labels}\n",
    "    _, l = session.run([optimizer, loss], feed_dict=feed_dict)\n",
    "    average_loss += l\n",
    "    if step % 2000 == 0:\n",
    "      if step > 0:\n",
    "        average_loss = average_loss / 2000\n",
    "      # The average loss is an estimate of the loss over the last 2000 batches.\n",
    "      print('Average loss at step %d: %f' % (step, average_loss))\n",
    "      average_loss = 0\n",
    "    # note that this is expensive (~20% slowdown if computed every 500 steps)\n",
    "    if step % 10000 == 0:\n",
    "      sim = similarity.eval()\n",
    "      for i in xrange(valid_size):\n",
    "        valid_word = reverse_dictionary[valid_examples[i]]\n",
    "        top_k = 8 # number of nearest neighbors\n",
    "        nearest = (-sim[i, :]).argsort()[1:top_k+1]\n",
    "        log = 'Nearest to %s:' % valid_word\n",
    "        for k in xrange(top_k):\n",
    "          close_word = reverse_dictionary[nearest[k]]\n",
    "          log = '%s %s,' % (log, close_word)\n",
    "        print(log)\n",
    "  final_embeddings = normalized_embeddings.eval()"
   ]
  },
  {
   "cell_type": "code",
   "execution_count": 8,
   "metadata": {
    "cellView": "both",
    "colab": {
     "autoexec": {
      "startup": false,
      "wait_interval": 0
     }
    },
    "colab_type": "code",
    "collapsed": true,
    "id": "jjJXYA_XzV79"
   },
   "outputs": [],
   "source": [
    "num_points = 400\n",
    "\n",
    "tsne = TSNE(perplexity=30, n_components=2, init='pca', n_iter=5000)\n",
    "two_d_embeddings = tsne.fit_transform(final_embeddings[1:num_points+1, :])"
   ]
  },
  {
   "cell_type": "code",
   "execution_count": null,
   "metadata": {
    "cellView": "both",
    "colab": {
     "autoexec": {
      "startup": false,
      "wait_interval": 0
     },
     "output_extras": [
      {
       "item_id": 1
      }
     ]
    },
    "colab_type": "code",
    "collapsed": false,
    "executionInfo": {
     "elapsed": 4763,
     "status": "ok",
     "timestamp": 1445965465525,
     "user": {
      "color": "#1FA15D",
      "displayName": "Vincent Vanhoucke",
      "isAnonymous": false,
      "isMe": true,
      "permissionId": "05076109866853157986",
      "photoUrl": "//lh6.googleusercontent.com/-cCJa7dTDcgQ/AAAAAAAAAAI/AAAAAAAACgw/r2EZ_8oYer4/s50-c-k-no/photo.jpg",
      "sessionId": "2f1ffade4c9f20de",
      "userId": "102167687554210253930"
     },
     "user_tz": 420
    },
    "id": "o_e0D_UezcDe",
    "outputId": "df22e4a5-e8ec-4e5e-d384-c6cf37c68c34"
   },
   "outputs": [],
   "source": [
    "def plot(embeddings, labels):\n",
    "  assert embeddings.shape[0] >= len(labels), 'More labels than embeddings'\n",
    "  pylab.figure(figsize=(15,15))  # in inches\n",
    "  for i, label in enumerate(labels):\n",
    "    x, y = embeddings[i,:]\n",
    "    pylab.scatter(x, y)\n",
    "    pylab.annotate(label, xy=(x, y), xytext=(5, 2), textcoords='offset points',\n",
    "                   ha='right', va='bottom')\n",
    "  pylab.show()\n",
    "\n",
    "words = [reverse_dictionary[i] for i in range(1, num_points+1)]\n",
    "plot(two_d_embeddings, words)"
   ]
  },
  {
   "cell_type": "markdown",
   "metadata": {
    "colab_type": "text",
    "id": "QB5EFrBnpNnc"
   },
   "source": [
    "---\n",
    "\n",
    "Problem\n",
    "-------\n",
    "\n",
    "An alternative to Word2Vec is called [CBOW](http://arxiv.org/abs/1301.3781) (Continuous Bag of Words). In the CBOW model, instead of predicting a context word from a word vector, you predict a word from the sum of all the word vectors in its context. Implement and evaluate a CBOW model trained on the text8 dataset.\n",
    "\n",
    "---"
   ]
  },
  {
   "cell_type": "code",
   "execution_count": 9,
   "metadata": {
    "collapsed": false
   },
   "outputs": [
    {
     "name": "stdout",
     "output_type": "stream",
     "text": [
      "context for : as\n",
      "anarchism\n",
      "term\n",
      "originated\n",
      "a\n",
      "context for : a\n",
      "of\n",
      "term\n",
      "as\n",
      "originated\n",
      "context for : term\n",
      "a\n",
      "as\n",
      "of\n",
      "abuse\n",
      "context for : of\n",
      "a\n",
      "term\n",
      "first\n",
      "abuse\n",
      "context for : abuse\n",
      "term\n",
      "first\n",
      "of\n",
      "used\n"
     ]
    }
   ],
   "source": [
    "data_index = 0\n",
    "context_window = 4\n",
    "start_index = 0\n",
    "\n",
    "def generate_cbow_batch(batch_size, context_size):\n",
    "  batch_size = batch_size * context_window\n",
    "  global start_index\n",
    "  assert (context_size + 1) % 2 == 1\n",
    "  assert batch_size % (context_size) == 0\n",
    " \n",
    "  batch = np.ndarray(shape=(batch_size), dtype=np.int32)\n",
    "  labels = np.ndarray(shape=(batch_size / context_size, 1), dtype=np.int32)\n",
    "  mid_element = context_size / 2\n",
    "  for i in range(batch_size / context_size):\n",
    "    buffer = [None] * context_size\n",
    "    for j in range(context_size + 1):\n",
    "      idx = (start_index + j) % len(data)\n",
    "      mid_element_idx = (start_index + mid_element) % len(data)\n",
    "     \n",
    "      if idx < mid_element_idx:\n",
    "        buffer[j] = data[idx]\n",
    "      elif idx > mid_element_idx:\n",
    "        buffer[j-1] = data[idx]\n",
    "      else:\n",
    "        labels[i,0] = data[mid_element_idx]\n",
    "    random.shuffle(buffer)\n",
    "    for j in range(context_size):\n",
    "      batch[i*context_size + j] = buffer[j]\n",
    "    start_index = (start_index + 1) % len(data)\n",
    "   \n",
    "  return batch, labels\n",
    "\n",
    "b_size=20\n",
    "c_size=4\n",
    "batch, labels = generate_cbow_batch(batch_size=b_size, context_size=c_size)\n",
    "for i in range(b_size / (c_size)):\n",
    "  print(\"context for :\",reverse_dictionary[labels[i,0]])\n",
    "  for j in range(c_size):\n",
    "    print(reverse_dictionary[batch[i*(c_size) + j]])"
   ]
  },
  {
   "cell_type": "code",
   "execution_count": 10,
   "metadata": {
    "collapsed": false
   },
   "outputs": [],
   "source": [
    "batch_size = 128\n",
    "embedding_size = 128 \n",
    "context_window = 4 \n",
    "valid_size = 16 \n",
    "valid_window = 100\n",
    "valid_examples = np.array(random.sample(xrange(valid_window), valid_size))\n",
    "num_sampled = 64\n",
    " \n",
    "graph = tf.Graph()\n",
    " \n",
    "with graph.as_default():\n",
    " \n",
    "  # Input data.\n",
    "  train_dataset = tf.placeholder(tf.int32, shape=[batch_size * context_window])\n",
    "  train_labels = tf.placeholder(tf.int32, shape=[batch_size, 1])\n",
    "  valid_dataset = tf.constant(valid_examples, dtype=tf.int32)\n",
    " \n",
    "  # Variables.\n",
    "  embeddings = tf.Variable(\n",
    "    tf.random_uniform([vocabulary_size, embedding_size], -1.0, 1.0))\n",
    "  segments = tf.constant([x / context_window for x in range(batch_size * context_window)])\n",
    "  softmax_weights = tf.Variable(\n",
    "    tf.truncated_normal([vocabulary_size, embedding_size],\n",
    "                         stddev=1.0 / math.sqrt(embedding_size)))\n",
    "  softmax_biases = tf.Variable(tf.zeros([vocabulary_size]))\n",
    " \n",
    "  # Model.\n",
    "  # Look up embeddings for inputs.\n",
    "  embed = tf.nn.embedding_lookup(embeddings, train_dataset)\n",
    "  compressed_embeddings = tf.segment_sum(embed, segments)\n",
    "  loss = tf.reduce_mean(\n",
    "    tf.nn.sampled_softmax_loss(softmax_weights, softmax_biases, compressed_embeddings,\n",
    "                               train_labels, num_sampled, vocabulary_size))\n",
    " \n",
    "  # Optimizer.\n",
    "  optimizer = tf.train.AdagradOptimizer(1.0).minimize(loss)\n",
    " \n",
    "  # Compute cosine distance between minibatch examples and all embeddings:\n",
    "  norm = tf.sqrt(tf.reduce_sum(tf.square(embeddings), 1, keep_dims=True))\n",
    "  normalized_embeddings = embeddings / norm\n",
    "  valid_embeddings = tf.nn.embedding_lookup(\n",
    "    normalized_embeddings, valid_dataset)\n",
    "  similarity = tf.matmul(valid_embeddings, tf.transpose(normalized_embeddings))\n",
    " \n",
    "  input = [dictionary[\"anarchism\"], dictionary[\"originated\"], dictionary[\"a\"], dictionary[\"term\"]] * batch_size\n",
    " \n",
    "  logits = tf.matmul(compressed_embeddings, tf.transpose(softmax_weights)) + softmax_biases\n",
    "  y_ = tf.nn.softmax(logits)"
   ]
  },
  {
   "cell_type": "code",
   "execution_count": 14,
   "metadata": {
    "collapsed": false
   },
   "outputs": [
    {
     "name": "stdout",
     "output_type": "stream",
     "text": [
      "Initialized\n",
      "Average loss at step 0 : 8.48342037201\n",
      "Nearest to into: mongo, cuboctahedron, ammonius, thunderstorms, derleth, eagles, radically, therus,\n",
      "Nearest to the: linehan, mikoyan, borax, billet, ebu, contract, grammarian, tantamount,\n",
      "Nearest to were: purse, cultivation, tend, strangelove, inconsistently, etiology, blank, quadratic,\n",
      "Nearest to see: dsm, heap, roasting, resentful, narrowed, blount, meticulous, classmates,\n",
      "Nearest to have: angiotensin, overlook, deadites, generosity, telegram, elsie, adf, xxv,\n",
      "Nearest to four: machina, inoffensive, norm, cushion, parallel, monmouthshire, scopes, deeply,\n",
      "Nearest to for: replicates, interlinked, sean, concern, edmunds, lasting, nongovernmental, transitory,\n",
      "Nearest to an: hallelujah, hamish, tremendously, squadron, thatched, midrashim, irresponsibility, surrenders,\n",
      "Nearest to however: gifford, scans, ragtime, hull, bangla, prodos, semiarid, lisboa,\n",
      "Nearest to zero: cymbals, grossing, authority, ostwald, hogan, counterpoint, architectures, oratorio,\n",
      "Nearest to that: alcoholics, lj, ejaculation, unbridled, petomane, weaker, healthier, uncle,\n",
      "Nearest to is: baa, americo, beautiful, melodramatic, recorders, resonate, factsheet, survive,\n",
      "Nearest to UNK: baile, methodus, consumption, not, kayaks, equipment, bartos, alfaro,\n",
      "Nearest to some: hhs, f, holiness, governmental, coler, transcribing, martians, arlo,\n",
      "Nearest to use: scraps, pituitary, mdf, incumbent, goo, slings, regulator, long,\n",
      "Nearest to new: faso, abbreviations, utilised, activator, endlessly, infrastructural, kraftwerk, stadtholder,\n",
      "Average loss at step 2000 : 7.95266834807\n",
      "Average loss at step 4000 : 5.6472950747\n",
      "Average loss at step 6000 : 6.27029024845\n",
      "Average loss at step 8000 : 4.74721968436\n",
      "Average loss at step 10000 : 3.98620043558\n",
      "Nearest to into: from, within, during, gramophone, in, antares, thunderstorms, between,\n",
      "Nearest to the: a, its, this, their, any, trafficking, extravagance, his,\n",
      "Nearest to were: are, was, had, is, ayub, desires, hilversum, affront,\n",
      "Nearest to see: mawson, paleo, treatments, kurdistan, sectarianism, birkenau, marvin, consequently,\n",
      "Nearest to have: has, had, be, tanzania, are, include, having, illustrating,\n",
      "Nearest to four: pei, vogt, five, quarrel, amalgamation, returner, grant, forms,\n",
      "Nearest to for: in, claimant, flanks, befell, madden, arrives, prefect, empiricism,\n",
      "Nearest to an: a, mancha, afternoons, seq, the, this, seniority, obiang,\n",
      "Nearest to however: fagan, clements, mensch, though, dealerships, curia, centrist, allergy,\n",
      "Nearest to zero: five, nine, two, ivo, six, seven, itunes, looms,\n",
      "Nearest to that: which, tenggara, trusting, accounted, pakistani, beware, this, antibacterial,\n",
      "Nearest to is: was, are, has, became, althea, were, moonraker, would,\n",
      "Nearest to UNK: cointelpro, elucidated, nsa, stylish, inconsistent, compaq, defeat, monoids,\n",
      "Nearest to some: many, both, political, disputes, these, cancelled, amsterdam, less,\n",
      "Nearest to use: yorkers, form, addition, skating, occurs, abrams, ils, def,\n",
      "Nearest to new: estate, idols, armed, takes, australia, demonstrated, song, rewrite,\n",
      "Average loss at step 12000 : 4.4860095233\n",
      "Average loss at step 14000 : 4.05867039871\n",
      "Average loss at step 16000 : 4.17449573982\n",
      "Average loss at step 18000 : 3.69580525666\n",
      "Average loss at step 20000 : 3.66240489838\n",
      "Nearest to into: within, from, cottages, ides, through, dewdney, upon, detector,\n",
      "Nearest to the: three, saint, one, amd, coach, australia, afrikaans, athena,\n",
      "Nearest to were: are, was, is, be, being, lotta, have, invades,\n",
      "Nearest to see: roasting, called, invite, corpse, breach, weierstrass, treatments, addicted,\n",
      "Nearest to have: has, had, having, include, puppeteer, were, larps, be,\n",
      "Nearest to four: six, eight, nine, freeza, ia, spawned, gambier, destruct,\n",
      "Nearest to for: dorm, despite, enclosure, flanks, interpolant, lasting, seyss, cho,\n",
      "Nearest to an: a, the, looted, rudolf, elucidation, joseph, baritone, pardons,\n",
      "Nearest to however: saint, three, afrikaans, amd, speakers, athena, and, parliament,\n",
      "Nearest to zero: th, five, eight, three, pound, units, reinvent, persons,\n",
      "Nearest to that: which, where, if, this, milky, adf, trusting, shaped,\n",
      "Nearest to is: was, are, became, has, were, contains, makes, romanticized,\n",
      "Nearest to UNK: peter, one, saint, three, and, george, amd, philip,\n",
      "Nearest to some: many, several, these, various, certain, most, all, serene,\n",
      "Nearest to use: parke, form, yorkers, accept, part, ils, addition, patron,\n",
      "Nearest to new: radiation, birmingham, traction, bearing, diy, old, publicacion, doors,\n",
      "Average loss at step 22000 : 4.23804721218\n",
      "Average loss at step 24000 : 3.6747834385\n",
      "Average loss at step 26000 : 3.63773055559\n",
      "Average loss at step 28000 : 3.54653794885\n",
      "Average loss at step 30000 : 3.44410803932\n",
      "Nearest to into: through, from, after, mongo, in, between, along, dewdney,\n",
      "Nearest to the: a, their, its, pwn, another, molyneux, our, an,\n",
      "Nearest to were: are, was, is, ayub, whitlam, be, been, include,\n",
      "Nearest to see: includes, stormed, but, corpse, ils, meander, called, invite,\n",
      "Nearest to have: has, had, having, include, are, isolationist, illustrating, longue,\n",
      "Nearest to four: three, five, six, eight, seven, zero, nine, recant,\n",
      "Nearest to for: following, zagreb, lasting, zz, tamil, bitmaps, flanks, interpolant,\n",
      "Nearest to an: another, a, bough, mancha, shadowy, the, kingston, afternoons,\n",
      "Nearest to however: though, although, while, but, because, when, unlike, menachem,\n",
      "Nearest to zero: five, nine, eight, six, four, three, seven, tamers,\n",
      "Nearest to that: this, which, where, who, because, what, bowser, if,\n",
      "Nearest to is: was, are, becomes, became, were, has, gave, contains,\n",
      "Nearest to UNK: procedural, cardoso, elas, groceries, hutchinson, mild, sussex, fallacies,\n",
      "Nearest to some: many, several, various, all, most, basilisk, thousands, these,\n",
      "Nearest to use: ils, sense, patron, accept, development, form, purpose, semiconducting,\n",
      "Nearest to new: birmingham, traction, trustworthy, monophyletic, platz, transnistria, motels, witty,\n",
      "Average loss at step 32000 : 3.37217284593\n",
      "Average loss at step 34000 : 3.23708255884\n",
      "Average loss at step 36000 : 3.29352529401\n",
      "Average loss at step 38000 : 3.33337094045\n",
      "Average loss at step 40000 : 3.59088402694\n",
      "Nearest to into: through, between, before, off, astride, within, to, gauss,\n",
      "Nearest to the: a, its, their, his, another, an, this, any,\n",
      "Nearest to were: was, are, had, mensa, weicker, be, ayub, lotta,\n",
      "Nearest to see: called, includes, contains, hygiene, provides, conversely, allows, stormed,\n",
      "Nearest to have: had, has, having, contain, include, are, unstable, westwood,\n",
      "Nearest to four: six, five, seven, three, eight, zero, two, bains,\n",
      "Nearest to for: after, tai, zagreb, blooms, exemplary, thus, featuring, seyss,\n",
      "Nearest to an: another, malignancies, mancha, the, this, a, stockpiling, afternoons,\n",
      "Nearest to however: though, where, while, when, although, icosidodecahedron, melancholic, saw,\n",
      "Nearest to zero: seven, four, million, five, eight, six, nine, raya,\n",
      "Nearest to that: which, pakistani, since, some, pendergast, iona, faith, believers,\n",
      "Nearest to is: amd, coleco, has, bsod, so, are, bullseye, anacletus,\n",
      "Nearest to UNK: peter, ss, cohen, me, iii, coach, kala, emanating,\n",
      "Nearest to some: many, cuisine, amd, saint, specific, anacletus, afrikaans, screen,\n",
      "Nearest to use: ils, sense, used, accept, usage, portion, aspects, produce,\n",
      "Nearest to new: birmingham, cholas, fe, tenochtitl, different, clashed, sufficiency, clovis,\n",
      "Average loss at step 42000 : 3.36617768347\n",
      "Average loss at step 44000 : 3.39518468982\n",
      "Average loss at step 46000 : 3.33395853758\n",
      "Average loss at step 48000 : 3.28796192825\n",
      "Average loss at step 50000 : 3.16839591324\n",
      "Nearest to into: through, from, within, across, around, before, between, beyond,\n",
      "Nearest to the: their, a, his, its, this, our, another, flensburg,\n",
      "Nearest to were: are, was, is, include, bibliographical, srpska, have, had,\n",
      "Nearest to see: allows, includes, include, doctorates, known, called, guanosine, tera,\n",
      "Nearest to have: has, had, having, include, refer, contain, adf, be,\n",
      "Nearest to four: three, five, two, eight, zero, seven, laodicea, foulke,\n",
      "Nearest to for: when, seyss, airshow, dorm, jak, calypso, tamil, featuring,\n",
      "Nearest to an: another, stockpiling, mancha, moksha, popularizing, nursery, elucidation, afternoons,\n",
      "Nearest to however: although, where, though, since, but, which, mailing, while,\n",
      "Nearest to zero: eight, five, four, nine, three, seven, outage, polemical,\n",
      "Nearest to that: which, although, however, where, what, swarm, bowser, if,\n",
      "Nearest to is: was, are, means, becomes, has, includes, contains, refers,\n",
      "Nearest to UNK: chemist, motives, algemeen, obscurity, goo, buckland, montju, mato,\n",
      "Nearest to some: many, several, various, certain, all, those, most, these,\n",
      "Nearest to use: usage, ils, aspects, favour, because, cucumbers, release, yorkers,\n",
      "Nearest to new: different, birmingham, arctan, tenochtitl, rl, saddam, single, particular,\n",
      "Average loss at step 52000 : 3.20375782162\n",
      "Average loss at step 54000 : 3.18854409939\n",
      "Average loss at step 56000 : 3.22998305207\n",
      "Average loss at step 58000 : 3.02892989939\n",
      "Average loss at step 60000 : 3.15087704891\n",
      "Nearest to into: through, from, towards, within, beyond, toward, lewin, between,\n",
      "Nearest to the: a, our, its, this, each, their, another, any,\n",
      "Nearest to were: are, was, is, had, remained, mccall, include, became,\n",
      "Nearest to see: called, allows, tera, known, federico, provides, includes, superhuman,\n",
      "Nearest to have: has, had, having, hold, include, refer, ve, provide,\n",
      "Nearest to four: three, five, six, seven, zero, eight, two, laodicea,\n",
      "Nearest to for: without, claudia, telling, parthenon, moreover, tuned, iona, rodrigues,\n",
      "Nearest to an: another, breakout, afternoons, the, shebaa, mancha, stockpiling, a,\n",
      "Nearest to however: although, though, but, where, icosidodecahedron, while, mailing, arrhythmia,\n",
      "Nearest to zero: five, four, seven, eight, three, six, nine, isaiah,\n",
      "Nearest to that: which, however, when, swarm, savings, whose, if, nevertheless,\n",
      "Nearest to is: was, are, becomes, contains, includes, became, provides, has,\n",
      "Nearest to UNK: athena, saint, rodrigues, afrikaans, amd, folder, anacletus, cuisine,\n",
      "Nearest to some: many, several, all, various, certain, wahhabi, thousands, those,\n",
      "Nearest to use: study, usage, ils, taipa, produce, yorkers, accept, release,\n",
      "Nearest to new: particular, birmingham, bearing, marianne, single, instrumentalist, different, groom,\n",
      "Average loss at step 62000 : 3.15312459821\n",
      "Average loss at step 64000 : 3.21083935952\n",
      "Average loss at step 66000 : 3.0202436246\n",
      "Average loss at step 68000 : 3.0356129353\n",
      "Average loss at step 70000 : 3.10142618686\n",
      "Nearest to into: through, between, within, onto, astride, from, towards, beyond,\n",
      "Nearest to the: a, his, their, its, our, another, any, rsc,\n",
      "Nearest to were: are, was, is, mccall, include, have, had, primes,\n",
      "Nearest to see: profess, saw, allows, contain, tera, increases, apply, consider,\n",
      "Nearest to have: has, had, having, include, ve, mean, contain, adf,\n",
      "Nearest to four: five, six, three, seven, eight, two, niggers, nasir,\n",
      "Nearest to for: seyss, without, likewise, including, via, shires, after, cho,\n",
      "Nearest to an: another, the, malignancies, mancha, popularizing, nursery, stockpiling, afternoons,\n",
      "Nearest to however: although, though, but, while, where, and, icosidodecahedron, arrhythmia,\n",
      "Nearest to zero: eight, six, seven, nine, five, three, weigh, unreal,\n",
      "Nearest to that: which, this, where, ostara, what, because, whose, rectifier,\n",
      "Nearest to is: was, are, becomes, makes, includes, remains, exists, became,\n",
      "Nearest to UNK: kandinsky, misdiagnosed, bobby, ord, porter, confidently, lems, scaffolding,\n",
      "Nearest to some: many, several, various, all, certain, multiple, numerous, sens,\n",
      "Nearest to use: speakers, cuisine, development, bishop, defense, processing, bidatsu, mascarenes,\n",
      "Nearest to new: hailie, different, birmingham, quota, rl, duelling, thuringia, capacitive,\n",
      "Average loss at step 72000 : 3.06705392772\n",
      "Average loss at step 74000 : 3.04171613872\n",
      "Average loss at step 76000 : 2.91386644053\n",
      "Average loss at step 78000 : 3.06256046006\n",
      "Average loss at step 80000 : 3.08326740724\n",
      "Nearest to into: within, through, beyond, from, between, lewin, towards, elwes,\n",
      "Nearest to the: another, a, their, its, any, her, an, his,\n",
      "Nearest to were: are, was, being, include, including, is, been, daoud,\n",
      "Nearest to see: includes, called, allows, provides, include, ensures, known, contains,\n",
      "Nearest to have: has, had, having, contain, represent, include, refer, offer,\n",
      "Nearest to four: three, five, six, seven, eight, two, zero, laodicea,\n",
      "Nearest to for: after, disregarding, interpolant, bandit, sal, despite, without, seyss,\n",
      "Nearest to an: another, afternoons, the, mancha, gaulish, ike, malignancies, passively,\n",
      "Nearest to however: although, but, though, while, where, because, pagos, whereas,\n",
      "Nearest to zero: seven, five, six, eight, four, pastures, sidewalk, excision,\n",
      "Nearest to that: which, where, this, remorse, what, however, because, swarm,\n",
      "Nearest to is: was, are, becomes, makes, exists, contains, includes, remains,\n",
      "Nearest to UNK: r, irish, catoctin, rodrigues, wikipedia, esa, anacletus, rivera,\n",
      "Nearest to some: many, various, several, both, multiple, most, thousands, certain,\n",
      "Nearest to use: share, usage, yorkers, favour, sense, practice, perceive, portion,\n",
      "Nearest to new: hailie, particular, trustworthy, cyaxares, full, different, rl, birmingham,\n",
      "Average loss at step 82000 : 3.01926945615\n",
      "Average loss at step 84000 : 2.90596083432\n",
      "Average loss at step 86000 : 3.02540277076\n",
      "Average loss at step 88000 : 2.98535593945\n",
      "Average loss at step 90000 : 3.0181487183\n",
      "Nearest to into: through, within, from, across, beyond, in, loup, forward,\n",
      "Nearest to the: a, its, another, their, any, bangladeshi, his, each,\n",
      "Nearest to were: are, was, include, is, newly, daoud, being, including,\n",
      "Nearest to see: includes, include, allows, apply, references, included, called, refers,\n",
      "Nearest to have: has, had, contain, having, reflect, include, offer, be,\n",
      "Nearest to four: eight, seven, three, six, five, two, tuned, zero,\n",
      "Nearest to for: bandit, cho, interpolant, enumerates, after, pushkin, sal, adenauer,\n",
      "Nearest to an: another, malignancies, the, mancha, afternoons, ideologically, stockpiling, popularizing,\n",
      "Nearest to however: although, though, but, while, where, because, if, unlike,\n",
      "Nearest to zero: seven, five, four, six, million, nine, eight, two,\n",
      "Nearest to that: which, when, because, where, however, although, thus, nevertheless,\n",
      "Nearest to is: was, are, becomes, includes, makes, provides, contains, exists,\n",
      "Nearest to UNK: irish, afrikaans, amd, anacletus, rodrigues, athena, folder, flavian,\n",
      "Nearest to some: many, several, various, certain, multiple, thousands, numerous, both,\n",
      "Nearest to use: yorkers, usage, sense, portion, appeal, indisputable, share, version,\n",
      "Nearest to new: different, separate, birmingham, single, publicacion, dragoons, trustworthy, small,\n",
      "Average loss at step 92000 : 3.00714544398\n",
      "Average loss at step 94000 : 2.92342925912\n",
      "Average loss at step 96000 : 3.00688305303\n",
      "Average loss at step 98000 : 2.95579947925\n",
      "Average loss at step 100000 : 2.69721724632\n",
      "Nearest to into: through, across, beyond, within, from, toward, under, upon,\n",
      "Nearest to the: a, its, his, their, our, bangladeshi, an, another,\n",
      "Nearest to were: are, was, is, being, include, weicker, be, ayub,\n",
      "Nearest to see: includes, include, refers, allows, refer, kurdistan, called, hygiene,\n",
      "Nearest to have: has, had, having, contain, include, mean, represent, require,\n",
      "Nearest to four: five, three, six, seven, eight, zero, two, ohm,\n",
      "Nearest to for: pushkin, dorm, bandit, bottomed, heyerdahl, after, before, milieu,\n",
      "Nearest to an: another, malignancies, the, stockpiling, amistad, moksha, afternoons, mancha,\n",
      "Nearest to however: although, but, though, while, that, where, because, unlike,\n",
      "Nearest to zero: five, four, eight, seven, six, three, nine, million,\n",
      "Nearest to that: which, although, however, trusting, where, adf, when, this,\n",
      "Nearest to is: was, are, being, were, becomes, remains, has, includes,\n",
      "Nearest to UNK: iia, catcher, amphitryon, helene, relentless, magnentius, inoue, pentagon,\n",
      "Nearest to some: many, several, various, thousands, all, both, most, numerous,\n",
      "Nearest to use: release, support, permit, purpose, mascarenes, production, california, development,\n",
      "Nearest to new: trustworthy, single, birmingham, rl, bourgeois, hailie, publicacion, separate,\n",
      "['as', 'in', 'by', 'with', 'on', 'and', 'for', 'have']\n",
      "['as', 'in', 'by', 'with', 'on', 'and', 'for', 'have']\n",
      "['as', 'in', 'by', 'with', 'on', 'and', 'for', 'have']\n",
      "['as', 'in', 'by', 'with', 'on', 'and', 'for', 'have']\n",
      "['as', 'in', 'by', 'with', 'on', 'and', 'for', 'have']\n",
      "['as', 'in', 'by', 'with', 'on', 'and', 'for', 'have']\n",
      "['as', 'in', 'by', 'with', 'on', 'and', 'for', 'have']\n"
     ]
    }
   ],
   "source": [
    "num_steps = 100001\n",
    "debug = False\n",
    " \n",
    "with tf.Session(graph=graph) as session:\n",
    "  tf.initialize_all_variables().run()\n",
    "  print(\"Initialized\")\n",
    "  average_loss = 0\n",
    "  if debug:\n",
    "      feed_dict = {train_dataset : input}\n",
    "      _, yy = session.run([logits, y_], feed_dict=feed_dict)\n",
    "     \n",
    "      top_k = 8 # number of nearest neighbors\n",
    "      for i in xrange(7):\n",
    "        print([reverse_dictionary[x] for x in (-yy[i, :]).argsort()[1:top_k+1]])\n",
    "  else:\n",
    "      for step in xrange(num_steps):\n",
    "        batch_data, batch_labels = generate_cbow_batch(batch_size, context_window)\n",
    "        feed_dict = {train_dataset : batch_data, train_labels : batch_labels}\n",
    "        _, l = session.run([optimizer, loss], feed_dict=feed_dict)\n",
    "       \n",
    "        average_loss += l\n",
    "        if step % 2000 == 0:\n",
    "          if step > 0:\n",
    "            average_loss = average_loss / 2000\n",
    "          # The average loss is an estimate of the loss over the last 2000 batches.\n",
    "          print(\"Average loss at step\", step, \":\", average_loss)\n",
    "          average_loss = 0\n",
    "        # note that this is expensive (~20% slowdown if computed every 500 steps)\n",
    "        if step % 10000 == 0:\n",
    "          sim = similarity.eval()\n",
    "          for i in xrange(valid_size):\n",
    "            valid_word = reverse_dictionary[valid_examples[i]]\n",
    "            top_k = 8 # number of nearest neighbors\n",
    "            nearest = (-sim[i, :]).argsort()[1:top_k+1]\n",
    "            log = \"Nearest to %s:\" % valid_word\n",
    "            for k in xrange(top_k):\n",
    "              close_word = reverse_dictionary[nearest[k]]\n",
    "              log = \"%s %s,\" % (log, close_word)\n",
    "            print(log)\n",
    "      final_embeddings = normalized_embeddings.eval()\n",
    "     \n",
    "      # feeds the algorithm a context and gets the most probable autocompletion/autocorrection\n",
    "      feed_dict = {train_dataset : input}\n",
    "      _, y = session.run([logits, y_], feed_dict=feed_dict)\n",
    " \n",
    "      top_k = 8 # number of nearest neighbors\n",
    "      for i in xrange(7):\n",
    "        print([reverse_dictionary[x] for x in (-y[i, :]).argsort()[1:top_k+1]])"
   ]
  },
  {
   "cell_type": "code",
   "execution_count": null,
   "metadata": {
    "collapsed": true
   },
   "outputs": [],
   "source": []
  }
 ],
 "metadata": {
  "colab": {
   "default_view": {},
   "name": "5_word2vec.ipynb",
   "provenance": [],
   "version": "0.3.2",
   "views": {}
  },
  "kernelspec": {
   "display_name": "Python 2",
   "language": "python",
   "name": "python2"
  },
  "language_info": {
   "codemirror_mode": {
    "name": "ipython",
    "version": 2
   },
   "file_extension": ".py",
   "mimetype": "text/x-python",
   "name": "python",
   "nbconvert_exporter": "python",
   "pygments_lexer": "ipython2",
   "version": "2.7.11"
  }
 },
 "nbformat": 4,
 "nbformat_minor": 0
}
