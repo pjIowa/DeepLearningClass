{
 "cells": [
  {
   "cell_type": "markdown",
   "metadata": {
    "colab_type": "text",
    "id": "D7tqLMoKF6uq"
   },
   "source": [
    "Deep Learning\n",
    "=============\n",
    "\n",
    "Assignment 5\n",
    "------------\n",
    "\n",
    "The goal of this assignment is to train a skip-gram model over [Text8](http://mattmahoney.net/dc/textdata) data."
   ]
  },
  {
   "cell_type": "code",
   "execution_count": 1,
   "metadata": {
    "cellView": "both",
    "colab": {
     "autoexec": {
      "startup": false,
      "wait_interval": 0
     }
    },
    "colab_type": "code",
    "collapsed": false,
    "id": "0K1ZyLn04QZf"
   },
   "outputs": [
    {
     "name": "stderr",
     "output_type": "stream",
     "text": [
      "/usr/local/lib/python2.7/site-packages/matplotlib/font_manager.py:273: UserWarning: Matplotlib is building the font cache using fc-list. This may take a moment.\n",
      "  warnings.warn('Matplotlib is building the font cache using fc-list. This may take a moment.')\n"
     ]
    }
   ],
   "source": [
    "# These are all the modules we'll be using later. Make sure you can import them\n",
    "# before proceeding further.\n",
    "from __future__ import print_function\n",
    "import collections\n",
    "import math\n",
    "import numpy as np\n",
    "import os\n",
    "import random\n",
    "import tensorflow as tf\n",
    "import zipfile\n",
    "from matplotlib import pylab\n",
    "from six.moves import range\n",
    "from six.moves.urllib.request import urlretrieve\n",
    "from sklearn.manifold import TSNE"
   ]
  },
  {
   "cell_type": "markdown",
   "metadata": {
    "colab_type": "text",
    "id": "aCjPJE944bkV"
   },
   "source": [
    "Download the data from the source website if necessary."
   ]
  },
  {
   "cell_type": "code",
   "execution_count": 2,
   "metadata": {
    "cellView": "both",
    "colab": {
     "autoexec": {
      "startup": false,
      "wait_interval": 0
     },
     "output_extras": [
      {
       "item_id": 1
      }
     ]
    },
    "colab_type": "code",
    "collapsed": false,
    "executionInfo": {
     "elapsed": 14640,
     "status": "ok",
     "timestamp": 1445964482948,
     "user": {
      "color": "#1FA15D",
      "displayName": "Vincent Vanhoucke",
      "isAnonymous": false,
      "isMe": true,
      "permissionId": "05076109866853157986",
      "photoUrl": "//lh6.googleusercontent.com/-cCJa7dTDcgQ/AAAAAAAAAAI/AAAAAAAACgw/r2EZ_8oYer4/s50-c-k-no/photo.jpg",
      "sessionId": "2f1ffade4c9f20de",
      "userId": "102167687554210253930"
     },
     "user_tz": 420
    },
    "id": "RJ-o3UBUFtCw",
    "outputId": "c4ec222c-80b5-4298-e635-93ca9f79c3b7"
   },
   "outputs": [
    {
     "name": "stdout",
     "output_type": "stream",
     "text": [
      "Found and verified text8.zip\n"
     ]
    }
   ],
   "source": [
    "url = 'http://mattmahoney.net/dc/'\n",
    "\n",
    "def maybe_download(filename, expected_bytes):\n",
    "  \"\"\"Download a file if not present, and make sure it's the right size.\"\"\"\n",
    "  if not os.path.exists(filename):\n",
    "    filename, _ = urlretrieve(url + filename, filename)\n",
    "  statinfo = os.stat(filename)\n",
    "  if statinfo.st_size == expected_bytes:\n",
    "    print('Found and verified %s' % filename)\n",
    "  else:\n",
    "    print(statinfo.st_size)\n",
    "    raise Exception(\n",
    "      'Failed to verify ' + filename + '. Can you get to it with a browser?')\n",
    "  return filename\n",
    "\n",
    "filename = maybe_download('text8.zip', 31344016)"
   ]
  },
  {
   "cell_type": "markdown",
   "metadata": {
    "colab_type": "text",
    "id": "Zqz3XiqI4mZT"
   },
   "source": [
    "Read the data into a string."
   ]
  },
  {
   "cell_type": "code",
   "execution_count": 3,
   "metadata": {
    "cellView": "both",
    "colab": {
     "autoexec": {
      "startup": false,
      "wait_interval": 0
     },
     "output_extras": [
      {
       "item_id": 1
      }
     ]
    },
    "colab_type": "code",
    "collapsed": false,
    "executionInfo": {
     "elapsed": 28844,
     "status": "ok",
     "timestamp": 1445964497165,
     "user": {
      "color": "#1FA15D",
      "displayName": "Vincent Vanhoucke",
      "isAnonymous": false,
      "isMe": true,
      "permissionId": "05076109866853157986",
      "photoUrl": "//lh6.googleusercontent.com/-cCJa7dTDcgQ/AAAAAAAAAAI/AAAAAAAACgw/r2EZ_8oYer4/s50-c-k-no/photo.jpg",
      "sessionId": "2f1ffade4c9f20de",
      "userId": "102167687554210253930"
     },
     "user_tz": 420
    },
    "id": "Mvf09fjugFU_",
    "outputId": "e3a928b4-1645-4fe8-be17-fcf47de5716d"
   },
   "outputs": [
    {
     "name": "stdout",
     "output_type": "stream",
     "text": [
      "Data size 17005207\n"
     ]
    }
   ],
   "source": [
    "def read_data(filename):\n",
    "  f = zipfile.ZipFile(filename)\n",
    "  for name in f.namelist():\n",
    "    return tf.compat.as_str(f.read(name)).split()\n",
    "  f.close()\n",
    "  \n",
    "words = read_data(filename)\n",
    "print('Data size %d' % len(words))"
   ]
  },
  {
   "cell_type": "markdown",
   "metadata": {
    "colab_type": "text",
    "id": "Zdw6i4F8glpp"
   },
   "source": [
    "Build the dictionary and replace rare words with UNK token."
   ]
  },
  {
   "cell_type": "code",
   "execution_count": 4,
   "metadata": {
    "cellView": "both",
    "colab": {
     "autoexec": {
      "startup": false,
      "wait_interval": 0
     },
     "output_extras": [
      {
       "item_id": 1
      }
     ]
    },
    "colab_type": "code",
    "collapsed": false,
    "executionInfo": {
     "elapsed": 28849,
     "status": "ok",
     "timestamp": 1445964497178,
     "user": {
      "color": "#1FA15D",
      "displayName": "Vincent Vanhoucke",
      "isAnonymous": false,
      "isMe": true,
      "permissionId": "05076109866853157986",
      "photoUrl": "//lh6.googleusercontent.com/-cCJa7dTDcgQ/AAAAAAAAAAI/AAAAAAAACgw/r2EZ_8oYer4/s50-c-k-no/photo.jpg",
      "sessionId": "2f1ffade4c9f20de",
      "userId": "102167687554210253930"
     },
     "user_tz": 420
    },
    "id": "gAL1EECXeZsD",
    "outputId": "3fb4ecd1-df67-44b6-a2dc-2291730970b2"
   },
   "outputs": [
    {
     "name": "stdout",
     "output_type": "stream",
     "text": [
      "Most common words (+UNK) [['UNK', 418391], ('the', 1061396), ('of', 593677), ('and', 416629), ('one', 411764)]\n",
      "Sample data [5239, 3084, 12, 6, 195, 2, 3137, 46, 59, 156]\n"
     ]
    }
   ],
   "source": [
    "vocabulary_size = 50000\n",
    "\n",
    "def build_dataset(words):\n",
    "  count = [['UNK', -1]]\n",
    "  count.extend(collections.Counter(words).most_common(vocabulary_size - 1))\n",
    "  dictionary = dict()\n",
    "  for word, _ in count:\n",
    "    dictionary[word] = len(dictionary)\n",
    "  data = list()\n",
    "  unk_count = 0\n",
    "  for word in words:\n",
    "    if word in dictionary:\n",
    "      index = dictionary[word]\n",
    "    else:\n",
    "      index = 0  # dictionary['UNK']\n",
    "      unk_count = unk_count + 1\n",
    "    data.append(index)\n",
    "  count[0][1] = unk_count\n",
    "  reverse_dictionary = dict(zip(dictionary.values(), dictionary.keys())) \n",
    "  return data, count, dictionary, reverse_dictionary\n",
    "\n",
    "data, count, dictionary, reverse_dictionary = build_dataset(words)\n",
    "print('Most common words (+UNK)', count[:5])\n",
    "print('Sample data', data[:10])\n",
    "del words  # Hint to reduce memory."
   ]
  },
  {
   "cell_type": "markdown",
   "metadata": {
    "colab_type": "text",
    "id": "lFwoyygOmWsL"
   },
   "source": [
    "Function to generate a training batch for the skip-gram model."
   ]
  },
  {
   "cell_type": "code",
   "execution_count": 5,
   "metadata": {
    "cellView": "both",
    "colab": {
     "autoexec": {
      "startup": false,
      "wait_interval": 0
     },
     "output_extras": [
      {
       "item_id": 1
      }
     ]
    },
    "colab_type": "code",
    "collapsed": false,
    "executionInfo": {
     "elapsed": 113,
     "status": "ok",
     "timestamp": 1445964901989,
     "user": {
      "color": "#1FA15D",
      "displayName": "Vincent Vanhoucke",
      "isAnonymous": false,
      "isMe": true,
      "permissionId": "05076109866853157986",
      "photoUrl": "//lh6.googleusercontent.com/-cCJa7dTDcgQ/AAAAAAAAAAI/AAAAAAAACgw/r2EZ_8oYer4/s50-c-k-no/photo.jpg",
      "sessionId": "2f1ffade4c9f20de",
      "userId": "102167687554210253930"
     },
     "user_tz": 420
    },
    "id": "w9APjA-zmfjV",
    "outputId": "67cccb02-cdaf-4e47-d489-43bcc8d57bb8"
   },
   "outputs": [
    {
     "name": "stdout",
     "output_type": "stream",
     "text": [
      "data: ['anarchism', 'originated', 'as', 'a', 'term', 'of', 'abuse', 'first']\n",
      "\n",
      "with num_skips = 2 and skip_window = 1:\n",
      "    batch: ['originated', 'originated', 'as', 'as', 'a', 'a', 'term', 'term']\n",
      "    labels: ['anarchism', 'as', 'originated', 'a', 'term', 'as', 'of', 'a']\n",
      "\n",
      "with num_skips = 4 and skip_window = 2:\n",
      "    batch: ['as', 'as', 'as', 'as', 'a', 'a', 'a', 'a']\n",
      "    labels: ['term', 'anarchism', 'originated', 'a', 'of', 'originated', 'term', 'as']\n"
     ]
    }
   ],
   "source": [
    "data_index = 0\n",
    "\n",
    "def generate_batch(batch_size, num_skips, skip_window):\n",
    "  global data_index\n",
    "  assert batch_size % num_skips == 0\n",
    "  assert num_skips <= 2 * skip_window\n",
    "  batch = np.ndarray(shape=(batch_size), dtype=np.int32)\n",
    "  labels = np.ndarray(shape=(batch_size, 1), dtype=np.int32)\n",
    "  span = 2 * skip_window + 1 # [ skip_window target skip_window ]\n",
    "  buffer = collections.deque(maxlen=span)\n",
    "  for _ in range(span):\n",
    "    buffer.append(data[data_index])\n",
    "    data_index = (data_index + 1) % len(data)\n",
    "  for i in range(batch_size // num_skips):\n",
    "    target = skip_window  # target label at the center of the buffer\n",
    "    targets_to_avoid = [ skip_window ]\n",
    "    for j in range(num_skips):\n",
    "      while target in targets_to_avoid:\n",
    "        target = random.randint(0, span - 1)\n",
    "      targets_to_avoid.append(target)\n",
    "      batch[i * num_skips + j] = buffer[skip_window]\n",
    "      labels[i * num_skips + j, 0] = buffer[target]\n",
    "    buffer.append(data[data_index])\n",
    "    data_index = (data_index + 1) % len(data)\n",
    "  return batch, labels\n",
    "\n",
    "print('data:', [reverse_dictionary[di] for di in data[:8]])\n",
    "\n",
    "for num_skips, skip_window in [(2, 1), (4, 2)]:\n",
    "    data_index = 0\n",
    "    batch, labels = generate_batch(batch_size=8, num_skips=num_skips, skip_window=skip_window)\n",
    "    print('\\nwith num_skips = %d and skip_window = %d:' % (num_skips, skip_window))\n",
    "    print('    batch:', [reverse_dictionary[bi] for bi in batch])\n",
    "    print('    labels:', [reverse_dictionary[li] for li in labels.reshape(8)])"
   ]
  },
  {
   "cell_type": "markdown",
   "metadata": {
    "colab_type": "text",
    "id": "Ofd1MbBuwiva"
   },
   "source": [
    "Train a skip-gram model."
   ]
  },
  {
   "cell_type": "code",
   "execution_count": 6,
   "metadata": {
    "cellView": "both",
    "colab": {
     "autoexec": {
      "startup": false,
      "wait_interval": 0
     }
    },
    "colab_type": "code",
    "collapsed": true,
    "id": "8pQKsV4Vwlzy"
   },
   "outputs": [],
   "source": [
    "batch_size = 128\n",
    "embedding_size = 128 # Dimension of the embedding vector.\n",
    "skip_window = 1 # How many words to consider left and right.\n",
    "num_skips = 2 # How many times to reuse an input to generate a label.\n",
    "# We pick a random validation set to sample nearest neighbors. here we limit the\n",
    "# validation samples to the words that have a low numeric ID, which by\n",
    "# construction are also the most frequent. \n",
    "valid_size = 16 # Random set of words to evaluate similarity on.\n",
    "valid_window = 100 # Only pick dev samples in the head of the distribution.\n",
    "valid_examples = np.array(random.sample(range(valid_window), valid_size))\n",
    "num_sampled = 64 # Number of negative examples to sample.\n",
    "\n",
    "graph = tf.Graph()\n",
    "\n",
    "with graph.as_default():\n",
    "\n",
    "  # Input data.\n",
    "  train_dataset = tf.placeholder(tf.int32, shape=[batch_size])\n",
    "  train_labels = tf.placeholder(tf.int32, shape=[batch_size, 1])\n",
    "  valid_dataset = tf.constant(valid_examples, dtype=tf.int32)\n",
    "  \n",
    "  # Variables.\n",
    "  embeddings = tf.Variable(\n",
    "    tf.random_uniform([vocabulary_size, embedding_size], -1.0, 1.0))\n",
    "  softmax_weights = tf.Variable(\n",
    "    tf.truncated_normal([vocabulary_size, embedding_size],\n",
    "                         stddev=1.0 / math.sqrt(embedding_size)))\n",
    "  softmax_biases = tf.Variable(tf.zeros([vocabulary_size]))\n",
    "  \n",
    "  # Model.\n",
    "  # Look up embeddings for inputs.\n",
    "  embed = tf.nn.embedding_lookup(embeddings, train_dataset)\n",
    "  # Compute the softmax loss, using a sample of the negative labels each time.\n",
    "  loss = tf.reduce_mean(\n",
    "    tf.nn.sampled_softmax_loss(softmax_weights, softmax_biases, embed,\n",
    "                               train_labels, num_sampled, vocabulary_size))\n",
    "\n",
    "  # Optimizer.\n",
    "  optimizer = tf.train.AdagradOptimizer(1.0).minimize(loss)\n",
    "  \n",
    "  # Compute the similarity between minibatch examples and all embeddings.\n",
    "  # We use the cosine distance:\n",
    "  norm = tf.sqrt(tf.reduce_sum(tf.square(embeddings), 1, keep_dims=True))\n",
    "  normalized_embeddings = embeddings / norm\n",
    "  valid_embeddings = tf.nn.embedding_lookup(\n",
    "    normalized_embeddings, valid_dataset)\n",
    "  similarity = tf.matmul(valid_embeddings, tf.transpose(normalized_embeddings))"
   ]
  },
  {
   "cell_type": "code",
   "execution_count": 7,
   "metadata": {
    "cellView": "both",
    "colab": {
     "autoexec": {
      "startup": false,
      "wait_interval": 0
     },
     "output_extras": [
      {
       "item_id": 23
      },
      {
       "item_id": 48
      },
      {
       "item_id": 61
      }
     ]
    },
    "colab_type": "code",
    "collapsed": false,
    "executionInfo": {
     "elapsed": 436189,
     "status": "ok",
     "timestamp": 1445965429787,
     "user": {
      "color": "#1FA15D",
      "displayName": "Vincent Vanhoucke",
      "isAnonymous": false,
      "isMe": true,
      "permissionId": "05076109866853157986",
      "photoUrl": "//lh6.googleusercontent.com/-cCJa7dTDcgQ/AAAAAAAAAAI/AAAAAAAACgw/r2EZ_8oYer4/s50-c-k-no/photo.jpg",
      "sessionId": "2f1ffade4c9f20de",
      "userId": "102167687554210253930"
     },
     "user_tz": 420
    },
    "id": "1bQFGceBxrWW",
    "outputId": "5ebd6d9a-33c6-4bcd-bf6d-252b0b6055e4"
   },
   "outputs": [
    {
     "name": "stdout",
     "output_type": "stream",
     "text": [
      "Initialized\n",
      "Average loss at step 0: 7.887483\n",
      "Nearest to from: muse, reconciling, registry, biruni, monasticism, increase, gatt, hydrology,\n",
      "Nearest to UNK: omniglot, abandons, offenses, franken, dresden, morton, manaus, ullman,\n",
      "Nearest to by: enzymatic, requests, moorcock, drivetrain, lymphoid, emigration, tunable, fraktion,\n",
      "Nearest to as: inventive, renegade, sources, carbohydrate, wap, etext, dvo, intensely,\n",
      "Nearest to states: neurological, issued, depressant, nde, jun, contour, assess, hyksos,\n",
      "Nearest to into: commit, banishing, capped, bawerk, andalusia, alameda, lawyer, mung,\n",
      "Nearest to these: nave, dismissive, dominated, unalaska, thor, instantiation, obsoletes, rst,\n",
      "Nearest to for: trying, retriever, symbolize, factors, syndicalism, excited, undernet, aircraft,\n",
      "Nearest to all: abaci, cyclades, blot, tourists, attribute, susima, ecclesiastical, thinly,\n",
      "Nearest to over: quintus, marcelo, subsection, orbited, newfoundland, housework, superconductivity, receiver,\n",
      "Nearest to will: longsword, speculator, regiment, dining, sitar, cz, duopoly, schoolteacher,\n",
      "Nearest to seven: give, sheds, rupp, firenze, shoreline, dictionaries, baal, cockroaches,\n",
      "Nearest to to: lycopene, genie, traversed, gerson, vga, padua, kd, extends,\n",
      "Nearest to between: pons, bets, lyric, cdna, arching, supernaturalism, summarizing, populous,\n",
      "Nearest to who: filmed, gustaf, elsinore, abduction, pill, synoptic, gropius, secombe,\n",
      "Nearest to some: screenshot, disuse, soliloquy, qualitative, mathematically, broaden, fields, com,\n",
      "Average loss at step 2000: 4.366087\n",
      "Average loss at step 4000: 3.859499\n",
      "Average loss at step 6000: 3.786076\n",
      "Average loss at step 8000: 3.685720\n",
      "Average loss at step 10000: 3.619138\n",
      "Nearest to from: after, with, in, among, tutored, during, wanderings, by,\n",
      "Nearest to UNK: innumerable, kluwer, sheriff, ridge, jugnauth, unionism, presided, assured,\n",
      "Nearest to by: was, and, in, as, fuzzy, with, into, invitation,\n",
      "Nearest to as: by, pigmented, renegade, wap, inventive, stabbing, cataclysmic, sorrow,\n",
      "Nearest to states: issued, depressant, nde, neurological, japanese, radiating, areas, scenario,\n",
      "Nearest to into: in, commit, with, capped, by, bawerk, tranquility, forest,\n",
      "Nearest to these: many, such, musa, leary, walley, dominated, nave, globular,\n",
      "Nearest to for: with, of, initiator, grounding, aircraft, in, and, microprogram,\n",
      "Nearest to all: blot, attribute, jdk, entrepreneur, impede, wastewater, betraying, fv,\n",
      "Nearest to over: willed, astride, explaining, hatching, carnegie, join, oglethorpe, altos,\n",
      "Nearest to will: would, can, duopoly, hollerith, belgian, should, tanner, midfield,\n",
      "Nearest to seven: eight, six, nine, five, three, four, zero, two,\n",
      "Nearest to to: can, not, would, abdication, uua, tds, mudd, flamboyant,\n",
      "Nearest to between: slimmer, adin, with, diamonds, populous, summarizing, of, leaning,\n",
      "Nearest to who: he, often, they, foreshadow, which, masjid, and, airbase,\n",
      "Nearest to some: many, broaden, delson, miyamoto, disuse, flashes, bodkin, countess,\n",
      "Average loss at step 12000: 3.606289\n",
      "Average loss at step 14000: 3.573428\n",
      "Average loss at step 16000: 3.410620\n",
      "Average loss at step 18000: 3.457154\n",
      "Average loss at step 20000: 3.538646\n",
      "Nearest to from: at, during, after, in, tutored, through, among, with,\n",
      "Nearest to UNK: logan, secured, liqueurs, atlas, occam, ishaq, suprarenal, mixer,\n",
      "Nearest to by: be, with, invitation, via, into, was, desmond, elevations,\n",
      "Nearest to as: stalactites, wrangling, encodings, wap, for, ism, etext, danelaw,\n",
      "Nearest to states: neurological, radiating, areas, nde, depressant, scenario, transportation, issued,\n",
      "Nearest to into: treble, by, commit, capped, through, from, liebig, pnh,\n",
      "Nearest to these: many, such, walley, all, some, leary, other, which,\n",
      "Nearest to for: with, of, microprogram, instigator, axon, is, grounding, as,\n",
      "Nearest to all: many, these, those, fv, blot, parts, various, entrepreneur,\n",
      "Nearest to over: astride, analysed, oglethorpe, akrotiri, willed, irt, frequent, join,\n",
      "Nearest to will: would, can, may, should, could, must, hollerith, klein,\n",
      "Nearest to seven: eight, six, five, four, nine, three, two, zero,\n",
      "Nearest to to: would, may, attainable, not, will, might, could, tds,\n",
      "Nearest to between: with, from, slimmer, fanning, cii, adin, in, earp,\n",
      "Nearest to who: he, which, they, often, also, foreshadow, airbase, not,\n",
      "Nearest to some: many, broaden, their, bodkin, other, these, flashes, his,\n",
      "Average loss at step 22000: 3.496162\n",
      "Average loss at step 24000: 3.489823\n",
      "Average loss at step 26000: 3.482560\n",
      "Average loss at step 28000: 3.482522\n",
      "Average loss at step 30000: 3.505056\n",
      "Nearest to from: into, after, in, between, during, through, by, heuss,\n",
      "Nearest to UNK: astrolabe, rebounded, peter, alc, ambients, rajasthan, lookup, tasty,\n",
      "Nearest to by: with, was, supermarket, from, desmond, inspectors, in, menelik,\n",
      "Nearest to as: encodings, wrangling, dispersing, snows, ism, danelaw, predestined, by,\n",
      "Nearest to states: areas, kingdom, nde, buttstock, radiating, neurological, abundance, assess,\n",
      "Nearest to into: from, through, back, with, within, in, treble, commit,\n",
      "Nearest to these: many, some, they, such, all, walley, those, which,\n",
      "Nearest to for: initiator, after, past, when, against, psychiatric, while, in,\n",
      "Nearest to all: these, some, many, fv, various, those, any, subtlety,\n",
      "Nearest to over: explaining, overwhelmingly, about, analysed, housework, radiocommunication, astride, win,\n",
      "Nearest to will: would, can, may, could, should, must, to, undated,\n",
      "Nearest to seven: eight, six, nine, five, four, three, zero, two,\n",
      "Nearest to to: would, will, uua, broken, might, could, can, not,\n",
      "Nearest to between: with, from, fanning, in, enlargement, slimmer, cii, earners,\n",
      "Nearest to who: he, they, often, foreshadow, also, never, which, she,\n",
      "Nearest to some: many, these, several, any, other, all, the, their,\n",
      "Average loss at step 32000: 3.498964\n",
      "Average loss at step 34000: 3.493607\n",
      "Average loss at step 36000: 3.452016\n",
      "Average loss at step 38000: 3.300208\n",
      "Average loss at step 40000: 3.430532\n",
      "Nearest to from: in, through, into, during, after, wp, between, for,\n",
      "Nearest to UNK: h, paul, intermolecular, virility, b, tala, w, and,\n",
      "Nearest to by: with, was, desmond, fuzzy, maker, spurious, inoue, tunable,\n",
      "Nearest to as: ism, oldies, wap, sanitation, beeb, dispersing, sorrow, by,\n",
      "Nearest to states: areas, kingdom, countries, nde, radiating, innkeeper, teenage, nations,\n",
      "Nearest to into: through, from, pnh, capped, commit, back, bernese, between,\n",
      "Nearest to these: many, some, they, several, such, those, all, various,\n",
      "Nearest to for: in, axon, initiator, against, corned, from, and, instigator,\n",
      "Nearest to all: these, ericsson, several, fv, various, entrepreneur, parts, many,\n",
      "Nearest to over: analysed, overwhelmingly, discriminatory, housework, astride, akrotiri, comoros, normandie,\n",
      "Nearest to will: would, can, could, may, should, must, cannot, might,\n",
      "Nearest to seven: eight, six, five, nine, four, three, zero, two,\n",
      "Nearest to to: could, in, will, can, blockbusters, genie, might, and,\n",
      "Nearest to between: with, among, enlargement, earners, fanning, from, into, mapquest,\n",
      "Nearest to who: he, often, they, which, never, also, she, dsl,\n",
      "Nearest to some: many, these, any, several, the, their, bungalow, belarus,\n",
      "Average loss at step 42000: 3.432355\n",
      "Average loss at step 44000: 3.452171\n",
      "Average loss at step 46000: 3.447539\n",
      "Average loss at step 48000: 3.347729\n",
      "Average loss at step 50000: 3.383981\n",
      "Nearest to from: into, through, during, in, on, by, under, until,\n",
      "Nearest to UNK: alc, catalyse, veal, infinitesimal, dp, showa, fluid, mikhail,\n",
      "Nearest to by: was, under, supermarket, through, from, fuzzy, electrolytic, with,\n",
      "Nearest to as: sorrow, when, etext, encodings, oldies, wrangling, ganesh, prologue,\n",
      "Nearest to states: kingdom, areas, nde, innkeeper, countries, nations, buttstock, teenage,\n",
      "Nearest to into: through, from, within, back, around, pierced, pnh, between,\n",
      "Nearest to these: some, many, several, both, such, those, all, various,\n",
      "Nearest to for: against, while, initiator, commodities, following, yahoo, including, windowing,\n",
      "Nearest to all: these, both, every, many, each, any, those, attribute,\n",
      "Nearest to over: comoros, overwhelmingly, analysed, up, akrotiri, annex, radiocommunication, oratorio,\n",
      "Nearest to will: would, could, can, may, must, should, might, cannot,\n",
      "Nearest to seven: six, eight, nine, three, four, five, zero, one,\n",
      "Nearest to to: exponential, blockbusters, could, firm, might, should, stabilize, uua,\n",
      "Nearest to between: with, among, into, enlargement, in, earners, fanning, diamonds,\n",
      "Nearest to who: he, which, never, also, not, eventually, totleben, they,\n",
      "Nearest to some: many, these, several, both, various, the, belarus, other,\n",
      "Average loss at step 52000: 3.436535\n",
      "Average loss at step 54000: 3.426137\n",
      "Average loss at step 56000: 3.435252\n",
      "Average loss at step 58000: 3.398905\n",
      "Average loss at step 60000: 3.391962\n",
      "Nearest to from: through, into, wp, by, enthusiastically, kahanamoku, tutored, anni,\n",
      "Nearest to UNK: graceful, trench, e, unimaginable, expos, heaps, conte, moser,\n",
      "Nearest to by: under, through, fuzzy, from, was, with, be, kahanamoku,\n",
      "Nearest to as: punta, stalactites, encodings, when, ism, wrangling, preached, thyestes,\n",
      "Nearest to states: kingdom, areas, countries, nations, us, buttstock, astronautica, nde,\n",
      "Nearest to into: through, within, from, around, pnh, away, capped, back,\n",
      "Nearest to these: many, some, both, all, several, which, such, those,\n",
      "Nearest to for: of, without, after, and, by, while, against, initiator,\n",
      "Nearest to all: many, these, those, both, any, each, every, various,\n",
      "Nearest to over: comoros, off, oratorio, between, analysed, up, overwhelmingly, through,\n",
      "Nearest to will: would, could, may, can, must, should, might, cannot,\n",
      "Nearest to seven: eight, six, four, nine, five, three, zero, one,\n",
      "Nearest to to: would, might, not, stabilized, will, radiotherapy, could, only,\n",
      "Nearest to between: with, among, over, within, enlargement, earners, pius, in,\n",
      "Nearest to who: he, which, subsequently, never, she, eventually, they, not,\n",
      "Nearest to some: many, several, these, both, certain, any, this, various,\n",
      "Average loss at step 62000: 3.241351\n",
      "Average loss at step 64000: 3.251005\n",
      "Average loss at step 66000: 3.403058\n",
      "Average loss at step 68000: 3.396861\n",
      "Average loss at step 70000: 3.361073\n",
      "Nearest to from: through, into, in, muse, by, kahanamoku, excommunication, wp,\n",
      "Nearest to UNK: phosphate, freebase, relativism, mechanical, erhard, orbitals, antibiotic, monogatari,\n",
      "Nearest to by: be, electrolytic, spurious, from, through, inspectors, under, desmond,\n",
      "Nearest to as: like, encodings, danelaw, dispersing, marches, sanitation, etext, tze,\n",
      "Nearest to states: kingdom, nations, areas, countries, us, innkeeper, buttstock, nde,\n",
      "Nearest to into: through, from, within, pnh, capped, around, dmca, auden,\n",
      "Nearest to these: some, many, such, various, are, several, they, those,\n",
      "Nearest to for: in, while, including, psychiatric, to, initiator, cushion, of,\n",
      "Nearest to all: many, some, any, every, various, ericsson, attribute, both,\n",
      "Nearest to over: about, overwhelmingly, analysed, radiocommunication, off, oratorio, normandie, comoros,\n",
      "Nearest to will: would, may, can, could, must, should, might, cannot,\n",
      "Nearest to seven: six, eight, nine, four, three, five, zero, two,\n",
      "Nearest to to: will, would, can, must, shall, could, and, for,\n",
      "Nearest to between: with, among, within, enlargement, fanning, earners, chapterhouse, in,\n",
      "Nearest to who: he, never, which, she, subsequently, born, they, eventually,\n",
      "Nearest to some: many, several, these, various, both, all, any, certain,\n",
      "Average loss at step 72000: 3.373227\n",
      "Average loss at step 74000: 3.348510\n",
      "Average loss at step 76000: 3.317949\n",
      "Average loss at step 78000: 3.349607\n",
      "Average loss at step 80000: 3.380104\n",
      "Nearest to from: through, into, muse, tutored, in, by, during, before,\n",
      "Nearest to UNK: et, smith, prejudiced, johnson, creatively, rajasthan, wilhelm, physicist,\n",
      "Nearest to by: through, desmond, when, from, including, fuzzy, with, felons,\n",
      "Nearest to as: pigmented, stalactites, sanitation, headland, wrangling, dispersing, outsourcing, tze,\n",
      "Nearest to states: kingdom, us, nations, countries, buttstock, areas, astronautica, commander,\n",
      "Nearest to into: through, within, from, pnh, around, under, capped, dmca,\n",
      "Nearest to these: several, many, various, those, some, such, both, all,\n",
      "Nearest to for: including, against, caricatures, initiator, canaveral, deporting, imi, axon,\n",
      "Nearest to all: both, every, various, any, many, these, several, each,\n",
      "Nearest to over: about, radiocommunication, oratorio, proconsular, off, overwhelmingly, marginal, through,\n",
      "Nearest to will: would, could, can, may, must, should, might, cannot,\n",
      "Nearest to seven: five, six, eight, four, nine, three, zero, one,\n",
      "Nearest to to: will, vga, php, blockbusters, would, humus, should, can,\n",
      "Nearest to between: among, with, within, enlargement, fanning, earners, from, clinch,\n",
      "Nearest to who: he, never, they, she, often, born, actually, alienate,\n",
      "Nearest to some: many, several, various, these, certain, numerous, both, any,\n",
      "Average loss at step 82000: 3.406950\n",
      "Average loss at step 84000: 3.414828\n",
      "Average loss at step 86000: 3.385353\n",
      "Average loss at step 88000: 3.356482\n",
      "Average loss at step 90000: 3.363603\n",
      "Nearest to from: through, during, into, before, after, tutored, muse, without,\n",
      "Nearest to UNK: psychiatrists, kaliningrad, nikola, pianist, omnivorous, toland, vulpes, bentley,\n",
      "Nearest to by: through, under, fuzzy, while, desmond, from, elevations, and,\n",
      "Nearest to as: wrangling, tze, punta, oldies, like, precinct, marches, talons,\n",
      "Nearest to states: kingdom, us, nations, buttstock, countries, areas, astronautica, innkeeper,\n",
      "Nearest to into: through, from, within, around, pnh, sancta, gabon, under,\n",
      "Nearest to these: several, some, many, various, such, are, both, all,\n",
      "Nearest to for: including, while, of, against, after, by, during, bibliographies,\n",
      "Nearest to all: many, both, various, several, every, any, these, some,\n",
      "Nearest to over: off, overwhelmingly, radiocommunication, through, about, jaw, behaviors, marginal,\n",
      "Nearest to will: would, could, can, may, must, should, might, cannot,\n",
      "Nearest to seven: eight, six, five, nine, four, three, zero, one,\n",
      "Nearest to to: will, blockbusters, would, flourishes, humus, php, uua, should,\n",
      "Nearest to between: with, among, within, earners, from, through, enlargement, transfusion,\n",
      "Nearest to who: he, which, she, never, also, often, they, actually,\n",
      "Nearest to some: many, several, these, certain, this, any, both, various,\n",
      "Average loss at step 92000: 3.397314\n",
      "Average loss at step 94000: 3.255470\n",
      "Average loss at step 96000: 3.359244\n",
      "Average loss at step 98000: 3.243338\n",
      "Average loss at step 100000: 3.352750\n",
      "Nearest to from: through, in, into, during, muse, between, within, after,\n",
      "Nearest to UNK: crystallization, conch, bound, applicant, da, declassified, vulpes, diversification,\n",
      "Nearest to by: through, including, under, desmond, when, without, renegade, ficino,\n",
      "Nearest to as: sanitation, punta, tze, like, ism, stalactites, infertility, when,\n",
      "Nearest to states: kingdom, nations, us, countries, buttstock, astronautica, innkeeper, areas,\n",
      "Nearest to into: through, within, from, around, pnh, pcm, sancta, back,\n",
      "Nearest to these: some, several, many, various, all, those, instead, which,\n",
      "Nearest to for: including, after, without, when, against, while, before, at,\n",
      "Nearest to all: these, many, any, various, every, those, some, several,\n",
      "Nearest to over: off, marginal, through, socket, discriminatory, dummy, palaestina, overwhelmingly,\n",
      "Nearest to will: would, can, could, may, must, should, might, cannot,\n",
      "Nearest to seven: eight, six, five, four, nine, three, two, zero,\n",
      "Nearest to to: will, could, can, should, blockbusters, would, zariski, shall,\n",
      "Nearest to between: among, with, within, through, enlargement, from, earners, into,\n",
      "Nearest to who: he, never, actually, which, also, she, that, traditionally,\n",
      "Nearest to some: many, several, these, numerous, various, any, certain, all,\n"
     ]
    }
   ],
   "source": [
    "num_steps = 100001\n",
    "\n",
    "with tf.Session(graph=graph) as session:\n",
    "  tf.initialize_all_variables().run()\n",
    "  print('Initialized')\n",
    "  average_loss = 0\n",
    "  for step in range(num_steps):\n",
    "    batch_data, batch_labels = generate_batch(\n",
    "      batch_size, num_skips, skip_window)\n",
    "    feed_dict = {train_dataset : batch_data, train_labels : batch_labels}\n",
    "    _, l = session.run([optimizer, loss], feed_dict=feed_dict)\n",
    "    average_loss += l\n",
    "    if step % 2000 == 0:\n",
    "      if step > 0:\n",
    "        average_loss = average_loss / 2000\n",
    "      # The average loss is an estimate of the loss over the last 2000 batches.\n",
    "      print('Average loss at step %d: %f' % (step, average_loss))\n",
    "      average_loss = 0\n",
    "    # note that this is expensive (~20% slowdown if computed every 500 steps)\n",
    "    if step % 10000 == 0:\n",
    "      sim = similarity.eval()\n",
    "      for i in xrange(valid_size):\n",
    "        valid_word = reverse_dictionary[valid_examples[i]]\n",
    "        top_k = 8 # number of nearest neighbors\n",
    "        nearest = (-sim[i, :]).argsort()[1:top_k+1]\n",
    "        log = 'Nearest to %s:' % valid_word\n",
    "        for k in xrange(top_k):\n",
    "          close_word = reverse_dictionary[nearest[k]]\n",
    "          log = '%s %s,' % (log, close_word)\n",
    "        print(log)\n",
    "  final_embeddings = normalized_embeddings.eval()"
   ]
  },
  {
   "cell_type": "code",
   "execution_count": 8,
   "metadata": {
    "cellView": "both",
    "colab": {
     "autoexec": {
      "startup": false,
      "wait_interval": 0
     }
    },
    "colab_type": "code",
    "collapsed": true,
    "id": "jjJXYA_XzV79"
   },
   "outputs": [],
   "source": [
    "num_points = 400\n",
    "\n",
    "tsne = TSNE(perplexity=30, n_components=2, init='pca', n_iter=5000)\n",
    "two_d_embeddings = tsne.fit_transform(final_embeddings[1:num_points+1, :])"
   ]
  },
  {
   "cell_type": "code",
   "execution_count": null,
   "metadata": {
    "cellView": "both",
    "colab": {
     "autoexec": {
      "startup": false,
      "wait_interval": 0
     },
     "output_extras": [
      {
       "item_id": 1
      }
     ]
    },
    "colab_type": "code",
    "collapsed": false,
    "executionInfo": {
     "elapsed": 4763,
     "status": "ok",
     "timestamp": 1445965465525,
     "user": {
      "color": "#1FA15D",
      "displayName": "Vincent Vanhoucke",
      "isAnonymous": false,
      "isMe": true,
      "permissionId": "05076109866853157986",
      "photoUrl": "//lh6.googleusercontent.com/-cCJa7dTDcgQ/AAAAAAAAAAI/AAAAAAAACgw/r2EZ_8oYer4/s50-c-k-no/photo.jpg",
      "sessionId": "2f1ffade4c9f20de",
      "userId": "102167687554210253930"
     },
     "user_tz": 420
    },
    "id": "o_e0D_UezcDe",
    "outputId": "df22e4a5-e8ec-4e5e-d384-c6cf37c68c34"
   },
   "outputs": [],
   "source": [
    "def plot(embeddings, labels):\n",
    "  assert embeddings.shape[0] >= len(labels), 'More labels than embeddings'\n",
    "  pylab.figure(figsize=(15,15))  # in inches\n",
    "  for i, label in enumerate(labels):\n",
    "    x, y = embeddings[i,:]\n",
    "    pylab.scatter(x, y)\n",
    "    pylab.annotate(label, xy=(x, y), xytext=(5, 2), textcoords='offset points',\n",
    "                   ha='right', va='bottom')\n",
    "  pylab.show()\n",
    "\n",
    "words = [reverse_dictionary[i] for i in range(1, num_points+1)]\n",
    "plot(two_d_embeddings, words)"
   ]
  },
  {
   "cell_type": "markdown",
   "metadata": {
    "colab_type": "text",
    "id": "QB5EFrBnpNnc"
   },
   "source": [
    "---\n",
    "\n",
    "Problem\n",
    "-------\n",
    "\n",
    "An alternative to Word2Vec is called [CBOW](http://arxiv.org/abs/1301.3781) (Continuous Bag of Words). In the CBOW model, instead of predicting a context word from a word vector, you predict a word from the sum of all the word vectors in its context. Implement and evaluate a CBOW model trained on the text8 dataset.\n",
    "\n",
    "---"
   ]
  }
 ],
 "metadata": {
  "colab": {
   "default_view": {},
   "name": "5_word2vec.ipynb",
   "provenance": [],
   "version": "0.3.2",
   "views": {}
  },
  "kernelspec": {
   "display_name": "Python 2",
   "language": "python",
   "name": "python2"
  },
  "language_info": {
   "codemirror_mode": {
    "name": "ipython",
    "version": 2
   },
   "file_extension": ".py",
   "mimetype": "text/x-python",
   "name": "python",
   "nbconvert_exporter": "python",
   "pygments_lexer": "ipython2",
   "version": "2.7.11"
  }
 },
 "nbformat": 4,
 "nbformat_minor": 0
}
